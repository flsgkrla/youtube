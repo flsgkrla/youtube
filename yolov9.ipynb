{
  "cells": [
    {
      "cell_type": "markdown",
      "metadata": {
        "id": "view-in-github",
        "colab_type": "text"
      },
      "source": [
        "<a href=\"https://colab.research.google.com/github/flsgkrla/youtube/blob/master/yolov9.ipynb\" target=\"_parent\"><img src=\"https://colab.research.google.com/assets/colab-badge.svg\" alt=\"Open In Colab\"/></a>"
      ]
    },
    {
      "cell_type": "code",
      "execution_count": null,
      "metadata": {
        "colab": {
          "base_uri": "https://localhost:8080/"
        },
        "id": "cJ07YDUjC4GE",
        "outputId": "8f9d127b-9148-41df-c8eb-0ddda40fbf83"
      },
      "outputs": [
        {
          "output_type": "stream",
          "name": "stdout",
          "text": [
            "Drive already mounted at /content/drive; to attempt to forcibly remount, call drive.mount(\"/content/drive\", force_remount=True).\n"
          ]
        }
      ],
      "source": [
        "from google.colab import drive\n",
        "drive.mount('/content/drive')"
      ]
    },
    {
      "cell_type": "code",
      "execution_count": null,
      "metadata": {
        "colab": {
          "base_uri": "https://localhost:8080/"
        },
        "id": "tQK_IlFJDtiU",
        "outputId": "b2e9b25e-c582-44eb-9beb-1ac536ece85a"
      },
      "outputs": [
        {
          "output_type": "stream",
          "name": "stdout",
          "text": [
            "Sat Jun 22 10:12:30 2024       \n",
            "+---------------------------------------------------------------------------------------+\n",
            "| NVIDIA-SMI 535.104.05             Driver Version: 535.104.05   CUDA Version: 12.2     |\n",
            "|-----------------------------------------+----------------------+----------------------+\n",
            "| GPU  Name                 Persistence-M | Bus-Id        Disp.A | Volatile Uncorr. ECC |\n",
            "| Fan  Temp   Perf          Pwr:Usage/Cap |         Memory-Usage | GPU-Util  Compute M. |\n",
            "|                                         |                      |               MIG M. |\n",
            "|=========================================+======================+======================|\n",
            "|   0  Tesla T4                       Off | 00000000:00:04.0 Off |                    0 |\n",
            "| N/A   36C    P8               9W /  70W |      0MiB / 15360MiB |      0%      Default |\n",
            "|                                         |                      |                  N/A |\n",
            "+-----------------------------------------+----------------------+----------------------+\n",
            "                                                                                         \n",
            "+---------------------------------------------------------------------------------------+\n",
            "| Processes:                                                                            |\n",
            "|  GPU   GI   CI        PID   Type   Process name                            GPU Memory |\n",
            "|        ID   ID                                                             Usage      |\n",
            "|=======================================================================================|\n",
            "|  No running processes found                                                           |\n",
            "+---------------------------------------------------------------------------------------+\n"
          ]
        }
      ],
      "source": [
        "!nvidia-smi"
      ]
    },
    {
      "cell_type": "code",
      "execution_count": null,
      "metadata": {
        "colab": {
          "base_uri": "https://localhost:8080/"
        },
        "id": "oEYnAID2El2W",
        "outputId": "83b39aae-dda8-498e-ea71-2963157abb5c"
      },
      "outputs": [
        {
          "output_type": "stream",
          "name": "stdout",
          "text": [
            "/content/drive/MyDrive\n"
          ]
        }
      ],
      "source": [
        "%cd /content/drive/MyDrive/"
      ]
    },
    {
      "cell_type": "markdown",
      "source": [
        "### Yolov9 및 weight 설치 및 다운로드"
      ],
      "metadata": {
        "id": "1Pkzd_wTZDzW"
      }
    },
    {
      "cell_type": "code",
      "execution_count": null,
      "metadata": {
        "colab": {
          "base_uri": "https://localhost:8080/"
        },
        "id": "9vk_3zZNE1El",
        "outputId": "55ac7a48-f779-460a-ac1a-48da3bb77d02",
        "collapsed": true
      },
      "outputs": [
        {
          "name": "stdout",
          "output_type": "stream",
          "text": [
            "Cloning into 'yolov9'...\n",
            "remote: Enumerating objects: 325, done.\u001b[K\n",
            "remote: Counting objects: 100% (218/218), done.\u001b[K\n",
            "remote: Compressing objects: 100% (62/62), done.\u001b[K\n",
            "remote: Total 325 (delta 159), reused 156 (delta 156), pack-reused 107\u001b[K\n",
            "Receiving objects: 100% (325/325), 2.23 MiB | 5.04 MiB/s, done.\n",
            "Resolving deltas: 100% (165/165), done.\n"
          ]
        }
      ],
      "source": [
        "!git clone https://github.com/SkalskiP/yolov9.git"
      ]
    },
    {
      "cell_type": "code",
      "execution_count": null,
      "metadata": {
        "colab": {
          "base_uri": "https://localhost:8080/"
        },
        "id": "CDcAt_UUE6ia",
        "outputId": "33b35b3c-1d07-4cf7-c191-6efb457f2440",
        "collapsed": true
      },
      "outputs": [
        {
          "name": "stdout",
          "output_type": "stream",
          "text": [
            "/content/drive/MyDrive/yolov9\n",
            "\u001b[2K     \u001b[90m━━━━━━━━━━━━━━━━━━━━━━━━━━━━━━━━━━━━━━━━\u001b[0m \u001b[32m207.3/207.3 kB\u001b[0m \u001b[31m5.3 MB/s\u001b[0m eta \u001b[36m0:00:00\u001b[0m\n",
            "\u001b[2K     \u001b[90m━━━━━━━━━━━━━━━━━━━━━━━━━━━━━━━━━━━━━━━━\u001b[0m \u001b[32m62.7/62.7 kB\u001b[0m \u001b[31m7.3 MB/s\u001b[0m eta \u001b[36m0:00:00\u001b[0m\n",
            "\u001b[2K     \u001b[90m━━━━━━━━━━━━━━━━━━━━━━━━━━━━━━━━━━━━━━━━\u001b[0m \u001b[32m1.6/1.6 MB\u001b[0m \u001b[31m12.7 MB/s\u001b[0m eta \u001b[36m0:00:00\u001b[0m\n",
            "\u001b[2K     \u001b[90m━━━━━━━━━━━━━━━━━━━━━━━━━━━━━━━━━━━━━━━━\u001b[0m \u001b[32m21.3/21.3 MB\u001b[0m \u001b[31m59.9 MB/s\u001b[0m eta \u001b[36m0:00:00\u001b[0m\n",
            "\u001b[?25h"
          ]
        }
      ],
      "source": [
        "%cd yolov9\n",
        "!pip install -r requirements.txt -q"
      ]
    },
    {
      "cell_type": "code",
      "execution_count": null,
      "metadata": {
        "id": "QeRK3DxmFAkz"
      },
      "outputs": [],
      "source": [
        "!wget -P {HOME}/weights -q https://github.com/WongKinYiu/yolov9/releases/download/v0.1/yolov9-c.pt\n",
        "!wget -P {HOME}/weights -q https://github.com/WongKinYiu/yolov9/releases/download/v0.1/yolov9-e.pt\n",
        "!wget -P {HOME}/weights -q https://github.com/WongKinYiu/yolov9/releases/download/v0.1/gelan-c.pt\n",
        "!wget -P {HOME}/weights -q https://github.com/WongKinYiu/yolov9/releases/download/v0.1/gelan-e.pt"
      ]
    },
    {
      "cell_type": "code",
      "execution_count": null,
      "metadata": {
        "colab": {
          "base_uri": "https://localhost:8080/"
        },
        "id": "OPrO4pt0Fn3s",
        "outputId": "9029f8c7-c28b-4511-f428-5249039e9550",
        "collapsed": true
      },
      "outputs": [
        {
          "name": "stdout",
          "output_type": "stream",
          "text": [
            "total 402426\n",
            "-rw------- 1 root root  51508261 Feb 18 12:36 gelan-c.pt\n",
            "-rw------- 1 root root 117203713 Feb 18 12:36 gelan-e.pt\n",
            "-rw------- 1 root root 103153312 Feb 18 12:36 yolov9-c.pt\n",
            "-rw------- 1 root root 140217688 Feb 18 12:36 yolov9-e.pt\n"
          ]
        }
      ],
      "source": [
        "!ls -la {HOME}/weights"
      ]
    },
    {
      "cell_type": "markdown",
      "source": [
        "### 이미지 파일 zip 해제"
      ],
      "metadata": {
        "id": "pHGHjlm-ZRoI"
      }
    },
    {
      "cell_type": "code",
      "execution_count": null,
      "metadata": {
        "id": "6GvH2XFRGbea"
      },
      "outputs": [],
      "source": [
        "!unzip -qq '{HOME}/images.zip' -d '{HOME}/thumnails'"
      ]
    },
    {
      "cell_type": "markdown",
      "source": [
        "### 코드 실행(gpu)"
      ],
      "metadata": {
        "id": "wt9cnZAKaBrW"
      }
    },
    {
      "cell_type": "code",
      "execution_count": null,
      "metadata": {
        "id": "CFhJK38oV3i-",
        "colab": {
          "base_uri": "https://localhost:8080/"
        },
        "outputId": "864d260b-b1a5-4469-bcc8-ae98c0a2d8e5"
      },
      "outputs": [
        {
          "output_type": "stream",
          "name": "stdout",
          "text": [
            "/content/drive/MyDrive/yolov9\n"
          ]
        }
      ],
      "source": [
        "import os\n",
        "\n",
        "# 수정된 경로 문자열\n",
        "HOME = '/content/drive/MyDrive/yolov9/'\n",
        "\n",
        "# 현재 작업 디렉토리 설정\n",
        "os.chdir(HOME)\n",
        "\n",
        "# 현재 작업 디렉토리 출력\n",
        "print(os.getcwd())"
      ]
    },
    {
      "cell_type": "code",
      "execution_count": null,
      "metadata": {
        "colab": {
          "base_uri": "https://localhost:8080/"
        },
        "id": "uPqDbL8i0yJ9",
        "outputId": "c5521396-80d1-4e57-ef4c-1764a694c09b"
      },
      "outputs": [
        {
          "output_type": "stream",
          "name": "stdout",
          "text": [
            "/content/drive/MyDrive/yolov9/\n"
          ]
        }
      ],
      "source": [
        "print(HOME)"
      ]
    },
    {
      "cell_type": "code",
      "execution_count": null,
      "metadata": {
        "colab": {
          "base_uri": "https://localhost:8080/"
        },
        "id": "ctAbf4C8INhq",
        "collapsed": true,
        "outputId": "632b5516-ad5c-425d-ffa2-03592514c826"
      },
      "outputs": [
        {
          "output_type": "stream",
          "name": "stdout",
          "text": [
            "\u001b[34m\u001b[1mdetect_md: \u001b[0mweights=['/content/drive/MyDrive/yolov9//weights/yolov9-e.pt'], source=/content/drive/MyDrive/yolov9//thumnails/images/image_23.jpg, data=data/coco128.yaml, imgsz=[640, 640], conf_thres=0.1, iou_thres=0.45, max_det=1000, device=0, view_img=False, save_txt=False, save_conf=False, save_crop=False, nosave=False, classes=None, agnostic_nms=False, augment=False, visualize=False, update=False, project=runs/detect, name=exp, exist_ok=False, line_thickness=3, hide_labels=False, hide_conf=False, half=False, dnn=False, vid_stride=1\n",
            "YOLOv5 🚀 1e33dbb Python-3.10.12 torch-2.3.0+cu121 CUDA:0 (Tesla T4, 15102MiB)\n",
            "\n",
            "Fusing layers... \n",
            "Model summary: 1119 layers, 69470144 parameters, 0 gradients\n",
            "image 1/1 /content/drive/MyDrive/yolov9/thumnails/images/image_23.jpg: 416x640 1 person, 3 suitcases, 153.1ms\n",
            "Speed: 0.6ms pre-process, 153.1ms inference, 801.6ms NMS per image at shape (1, 3, 640, 640)\n",
            "Results saved to \u001b[1mruns/detect/exp\u001b[0m\n",
            "\u001b[34m\u001b[1mdetect_md: \u001b[0mweights=['/content/drive/MyDrive/yolov9//weights/yolov9-e.pt'], source=/content/drive/MyDrive/yolov9//thumnails/images/image_67.jpg, data=data/coco128.yaml, imgsz=[640, 640], conf_thres=0.1, iou_thres=0.45, max_det=1000, device=0, view_img=False, save_txt=False, save_conf=False, save_crop=False, nosave=False, classes=None, agnostic_nms=False, augment=False, visualize=False, update=False, project=runs/detect, name=exp, exist_ok=False, line_thickness=3, hide_labels=False, hide_conf=False, half=False, dnn=False, vid_stride=1\n",
            "YOLOv5 🚀 1e33dbb Python-3.10.12 torch-2.3.0+cu121 CUDA:0 (Tesla T4, 15102MiB)\n",
            "\n",
            "Fusing layers... \n",
            "Model summary: 1119 layers, 69470144 parameters, 0 gradients\n",
            "image 1/1 /content/drive/MyDrive/yolov9/thumnails/images/image_67.jpg: 416x640 1 cup, 1 couch, 1 laptop, 1 keyboard, 236.2ms\n",
            "Speed: 0.6ms pre-process, 236.2ms inference, 1015.0ms NMS per image at shape (1, 3, 640, 640)\n",
            "Results saved to \u001b[1mruns/detect/exp\u001b[0m\n",
            "\u001b[34m\u001b[1mdetect_md: \u001b[0mweights=['/content/drive/MyDrive/yolov9//weights/yolov9-e.pt'], source=/content/drive/MyDrive/yolov9//thumnails/images/image_11.jpg, data=data/coco128.yaml, imgsz=[640, 640], conf_thres=0.1, iou_thres=0.45, max_det=1000, device=0, view_img=False, save_txt=False, save_conf=False, save_crop=False, nosave=False, classes=None, agnostic_nms=False, augment=False, visualize=False, update=False, project=runs/detect, name=exp, exist_ok=False, line_thickness=3, hide_labels=False, hide_conf=False, half=False, dnn=False, vid_stride=1\n",
            "YOLOv5 🚀 1e33dbb Python-3.10.12 torch-2.3.0+cu121 CUDA:0 (Tesla T4, 15102MiB)\n",
            "\n",
            "Fusing layers... \n",
            "Model summary: 1119 layers, 69470144 parameters, 0 gradients\n",
            "image 1/1 /content/drive/MyDrive/yolov9/thumnails/images/image_11.jpg: 416x640 (no detections), 222.0ms\n",
            "Speed: 0.7ms pre-process, 222.0ms inference, 56.5ms NMS per image at shape (1, 3, 640, 640)\n",
            "Results saved to \u001b[1mruns/detect/exp\u001b[0m\n",
            "\u001b[34m\u001b[1mdetect_md: \u001b[0mweights=['/content/drive/MyDrive/yolov9//weights/yolov9-e.pt'], source=/content/drive/MyDrive/yolov9//thumnails/images/image_60.jpg, data=data/coco128.yaml, imgsz=[640, 640], conf_thres=0.1, iou_thres=0.45, max_det=1000, device=0, view_img=False, save_txt=False, save_conf=False, save_crop=False, nosave=False, classes=None, agnostic_nms=False, augment=False, visualize=False, update=False, project=runs/detect, name=exp, exist_ok=False, line_thickness=3, hide_labels=False, hide_conf=False, half=False, dnn=False, vid_stride=1\n",
            "YOLOv5 🚀 1e33dbb Python-3.10.12 torch-2.3.0+cu121 CUDA:0 (Tesla T4, 15102MiB)\n",
            "\n",
            "Fusing layers... \n",
            "Model summary: 1119 layers, 69470144 parameters, 0 gradients\n",
            "image 1/1 /content/drive/MyDrive/yolov9/thumnails/images/image_60.jpg: 416x640 9 persons, 1 boat, 1 sports ball, 152.7ms\n",
            "Speed: 0.5ms pre-process, 152.7ms inference, 521.9ms NMS per image at shape (1, 3, 640, 640)\n",
            "Results saved to \u001b[1mruns/detect/exp\u001b[0m\n",
            "\u001b[34m\u001b[1mdetect_md: \u001b[0mweights=['/content/drive/MyDrive/yolov9//weights/yolov9-e.pt'], source=/content/drive/MyDrive/yolov9//thumnails/images/image_14.jpg, data=data/coco128.yaml, imgsz=[640, 640], conf_thres=0.1, iou_thres=0.45, max_det=1000, device=0, view_img=False, save_txt=False, save_conf=False, save_crop=False, nosave=False, classes=None, agnostic_nms=False, augment=False, visualize=False, update=False, project=runs/detect, name=exp, exist_ok=False, line_thickness=3, hide_labels=False, hide_conf=False, half=False, dnn=False, vid_stride=1\n",
            "YOLOv5 🚀 1e33dbb Python-3.10.12 torch-2.3.0+cu121 CUDA:0 (Tesla T4, 15102MiB)\n",
            "\n",
            "Fusing layers... \n",
            "Model summary: 1119 layers, 69470144 parameters, 0 gradients\n",
            "image 1/1 /content/drive/MyDrive/yolov9/thumnails/images/image_14.jpg: 416x640 1 person, 1 cell phone, 162.6ms\n",
            "Speed: 0.6ms pre-process, 162.6ms inference, 575.8ms NMS per image at shape (1, 3, 640, 640)\n",
            "Results saved to \u001b[1mruns/detect/exp\u001b[0m\n",
            "\u001b[34m\u001b[1mdetect_md: \u001b[0mweights=['/content/drive/MyDrive/yolov9//weights/yolov9-e.pt'], source=/content/drive/MyDrive/yolov9//thumnails/images/image_22.jpg, data=data/coco128.yaml, imgsz=[640, 640], conf_thres=0.1, iou_thres=0.45, max_det=1000, device=0, view_img=False, save_txt=False, save_conf=False, save_crop=False, nosave=False, classes=None, agnostic_nms=False, augment=False, visualize=False, update=False, project=runs/detect, name=exp, exist_ok=False, line_thickness=3, hide_labels=False, hide_conf=False, half=False, dnn=False, vid_stride=1\n",
            "YOLOv5 🚀 1e33dbb Python-3.10.12 torch-2.3.0+cu121 CUDA:0 (Tesla T4, 15102MiB)\n",
            "\n",
            "Fusing layers... \n",
            "Model summary: 1119 layers, 69470144 parameters, 0 gradients\n",
            "image 1/1 /content/drive/MyDrive/yolov9/thumnails/images/image_22.jpg: 416x640 1 toilet, 1 keyboard, 150.7ms\n",
            "Speed: 0.6ms pre-process, 150.7ms inference, 569.1ms NMS per image at shape (1, 3, 640, 640)\n",
            "Results saved to \u001b[1mruns/detect/exp\u001b[0m\n",
            "\u001b[34m\u001b[1mdetect_md: \u001b[0mweights=['/content/drive/MyDrive/yolov9//weights/yolov9-e.pt'], source=/content/drive/MyDrive/yolov9//thumnails/images/image_45.jpg, data=data/coco128.yaml, imgsz=[640, 640], conf_thres=0.1, iou_thres=0.45, max_det=1000, device=0, view_img=False, save_txt=False, save_conf=False, save_crop=False, nosave=False, classes=None, agnostic_nms=False, augment=False, visualize=False, update=False, project=runs/detect, name=exp, exist_ok=False, line_thickness=3, hide_labels=False, hide_conf=False, half=False, dnn=False, vid_stride=1\n",
            "YOLOv5 🚀 1e33dbb Python-3.10.12 torch-2.3.0+cu121 CUDA:0 (Tesla T4, 15102MiB)\n",
            "\n",
            "Fusing layers... \n",
            "Model summary: 1119 layers, 69470144 parameters, 0 gradients\n",
            "image 1/1 /content/drive/MyDrive/yolov9/thumnails/images/image_45.jpg: 416x640 1 person, 154.2ms\n",
            "Speed: 0.7ms pre-process, 154.2ms inference, 558.7ms NMS per image at shape (1, 3, 640, 640)\n",
            "Results saved to \u001b[1mruns/detect/exp\u001b[0m\n",
            "\u001b[34m\u001b[1mdetect_md: \u001b[0mweights=['/content/drive/MyDrive/yolov9//weights/yolov9-e.pt'], source=/content/drive/MyDrive/yolov9//thumnails/images/image_12.jpg, data=data/coco128.yaml, imgsz=[640, 640], conf_thres=0.1, iou_thres=0.45, max_det=1000, device=0, view_img=False, save_txt=False, save_conf=False, save_crop=False, nosave=False, classes=None, agnostic_nms=False, augment=False, visualize=False, update=False, project=runs/detect, name=exp, exist_ok=False, line_thickness=3, hide_labels=False, hide_conf=False, half=False, dnn=False, vid_stride=1\n",
            "YOLOv5 🚀 1e33dbb Python-3.10.12 torch-2.3.0+cu121 CUDA:0 (Tesla T4, 15102MiB)\n",
            "\n",
            "Fusing layers... \n",
            "Model summary: 1119 layers, 69470144 parameters, 0 gradients\n",
            "image 1/1 /content/drive/MyDrive/yolov9/thumnails/images/image_12.jpg: 416x640 1 clock, 169.4ms\n",
            "Speed: 0.6ms pre-process, 169.4ms inference, 520.6ms NMS per image at shape (1, 3, 640, 640)\n",
            "Results saved to \u001b[1mruns/detect/exp\u001b[0m\n",
            "\u001b[34m\u001b[1mdetect_md: \u001b[0mweights=['/content/drive/MyDrive/yolov9//weights/yolov9-e.pt'], source=/content/drive/MyDrive/yolov9//thumnails/images/image_0.jpg, data=data/coco128.yaml, imgsz=[640, 640], conf_thres=0.1, iou_thres=0.45, max_det=1000, device=0, view_img=False, save_txt=False, save_conf=False, save_crop=False, nosave=False, classes=None, agnostic_nms=False, augment=False, visualize=False, update=False, project=runs/detect, name=exp, exist_ok=False, line_thickness=3, hide_labels=False, hide_conf=False, half=False, dnn=False, vid_stride=1\n",
            "YOLOv5 🚀 1e33dbb Python-3.10.12 torch-2.3.0+cu121 CUDA:0 (Tesla T4, 15102MiB)\n",
            "\n",
            "Fusing layers... \n",
            "Model summary: 1119 layers, 69470144 parameters, 0 gradients\n",
            "image 1/1 /content/drive/MyDrive/yolov9/thumnails/images/image_0.jpg: 416x640 2 persons, 1 chair, 2 potted plants, 1 laptop, 1 keyboard, 6 books, 1 scissors, 166.0ms\n",
            "Speed: 0.4ms pre-process, 166.0ms inference, 546.6ms NMS per image at shape (1, 3, 640, 640)\n",
            "Results saved to \u001b[1mruns/detect/exp\u001b[0m\n",
            "\u001b[34m\u001b[1mdetect_md: \u001b[0mweights=['/content/drive/MyDrive/yolov9//weights/yolov9-e.pt'], source=/content/drive/MyDrive/yolov9//thumnails/images/image_68.jpg, data=data/coco128.yaml, imgsz=[640, 640], conf_thres=0.1, iou_thres=0.45, max_det=1000, device=0, view_img=False, save_txt=False, save_conf=False, save_crop=False, nosave=False, classes=None, agnostic_nms=False, augment=False, visualize=False, update=False, project=runs/detect, name=exp, exist_ok=False, line_thickness=3, hide_labels=False, hide_conf=False, half=False, dnn=False, vid_stride=1\n",
            "YOLOv5 🚀 1e33dbb Python-3.10.12 torch-2.3.0+cu121 CUDA:0 (Tesla T4, 15102MiB)\n",
            "\n",
            "Fusing layers... \n",
            "Model summary: 1119 layers, 69470144 parameters, 0 gradients\n",
            "image 1/1 /content/drive/MyDrive/yolov9/thumnails/images/image_68.jpg: 416x640 2 persons, 256.7ms\n",
            "Speed: 0.7ms pre-process, 256.7ms inference, 1012.8ms NMS per image at shape (1, 3, 640, 640)\n",
            "Results saved to \u001b[1mruns/detect/exp\u001b[0m\n",
            "\u001b[34m\u001b[1mdetect_md: \u001b[0mweights=['/content/drive/MyDrive/yolov9//weights/yolov9-e.pt'], source=/content/drive/MyDrive/yolov9//thumnails/images/image_13.jpg, data=data/coco128.yaml, imgsz=[640, 640], conf_thres=0.1, iou_thres=0.45, max_det=1000, device=0, view_img=False, save_txt=False, save_conf=False, save_crop=False, nosave=False, classes=None, agnostic_nms=False, augment=False, visualize=False, update=False, project=runs/detect, name=exp, exist_ok=False, line_thickness=3, hide_labels=False, hide_conf=False, half=False, dnn=False, vid_stride=1\n",
            "YOLOv5 🚀 1e33dbb Python-3.10.12 torch-2.3.0+cu121 CUDA:0 (Tesla T4, 15102MiB)\n",
            "\n",
            "Fusing layers... \n",
            "Model summary: 1119 layers, 69470144 parameters, 0 gradients\n",
            "image 1/1 /content/drive/MyDrive/yolov9/thumnails/images/image_13.jpg: 416x640 2 persons, 196.5ms\n",
            "Speed: 0.7ms pre-process, 196.5ms inference, 559.9ms NMS per image at shape (1, 3, 640, 640)\n",
            "Results saved to \u001b[1mruns/detect/exp\u001b[0m\n",
            "\u001b[34m\u001b[1mdetect_md: \u001b[0mweights=['/content/drive/MyDrive/yolov9//weights/yolov9-e.pt'], source=/content/drive/MyDrive/yolov9//thumnails/images/image_34.jpg, data=data/coco128.yaml, imgsz=[640, 640], conf_thres=0.1, iou_thres=0.45, max_det=1000, device=0, view_img=False, save_txt=False, save_conf=False, save_crop=False, nosave=False, classes=None, agnostic_nms=False, augment=False, visualize=False, update=False, project=runs/detect, name=exp, exist_ok=False, line_thickness=3, hide_labels=False, hide_conf=False, half=False, dnn=False, vid_stride=1\n",
            "YOLOv5 🚀 1e33dbb Python-3.10.12 torch-2.3.0+cu121 CUDA:0 (Tesla T4, 15102MiB)\n",
            "\n",
            "Fusing layers... \n",
            "Model summary: 1119 layers, 69470144 parameters, 0 gradients\n",
            "image 1/1 /content/drive/MyDrive/yolov9/thumnails/images/image_34.jpg: 384x640 1 bird, 1 tv, 150.2ms\n",
            "Speed: 0.6ms pre-process, 150.2ms inference, 655.3ms NMS per image at shape (1, 3, 640, 640)\n",
            "Results saved to \u001b[1mruns/detect/exp\u001b[0m\n",
            "\u001b[34m\u001b[1mdetect_md: \u001b[0mweights=['/content/drive/MyDrive/yolov9//weights/yolov9-e.pt'], source=/content/drive/MyDrive/yolov9//thumnails/images/image_42.jpg, data=data/coco128.yaml, imgsz=[640, 640], conf_thres=0.1, iou_thres=0.45, max_det=1000, device=0, view_img=False, save_txt=False, save_conf=False, save_crop=False, nosave=False, classes=None, agnostic_nms=False, augment=False, visualize=False, update=False, project=runs/detect, name=exp, exist_ok=False, line_thickness=3, hide_labels=False, hide_conf=False, half=False, dnn=False, vid_stride=1\n",
            "YOLOv5 🚀 1e33dbb Python-3.10.12 torch-2.3.0+cu121 CUDA:0 (Tesla T4, 15102MiB)\n",
            "\n",
            "Fusing layers... \n",
            "Model summary: 1119 layers, 69470144 parameters, 0 gradients\n",
            "image 1/1 /content/drive/MyDrive/yolov9/thumnails/images/image_42.jpg: 416x640 1 person, 153.6ms\n",
            "Speed: 0.5ms pre-process, 153.6ms inference, 580.9ms NMS per image at shape (1, 3, 640, 640)\n",
            "Results saved to \u001b[1mruns/detect/exp\u001b[0m\n",
            "\u001b[34m\u001b[1mdetect_md: \u001b[0mweights=['/content/drive/MyDrive/yolov9//weights/yolov9-e.pt'], source=/content/drive/MyDrive/yolov9//thumnails/images/image_35.jpg, data=data/coco128.yaml, imgsz=[640, 640], conf_thres=0.1, iou_thres=0.45, max_det=1000, device=0, view_img=False, save_txt=False, save_conf=False, save_crop=False, nosave=False, classes=None, agnostic_nms=False, augment=False, visualize=False, update=False, project=runs/detect, name=exp, exist_ok=False, line_thickness=3, hide_labels=False, hide_conf=False, half=False, dnn=False, vid_stride=1\n",
            "YOLOv5 🚀 1e33dbb Python-3.10.12 torch-2.3.0+cu121 CUDA:0 (Tesla T4, 15102MiB)\n",
            "\n",
            "Fusing layers... \n",
            "Model summary: 1119 layers, 69470144 parameters, 0 gradients\n",
            "image 1/1 /content/drive/MyDrive/yolov9/thumnails/images/image_35.jpg: 416x640 2 cups, 2 chairs, 2 potted plants, 2 tvs, 1 laptop, 1 keyboard, 166.5ms\n",
            "Speed: 0.6ms pre-process, 166.5ms inference, 574.7ms NMS per image at shape (1, 3, 640, 640)\n",
            "Results saved to \u001b[1mruns/detect/exp\u001b[0m\n",
            "\u001b[34m\u001b[1mdetect_md: \u001b[0mweights=['/content/drive/MyDrive/yolov9//weights/yolov9-e.pt'], source=/content/drive/MyDrive/yolov9//thumnails/images/image_21.jpg, data=data/coco128.yaml, imgsz=[640, 640], conf_thres=0.1, iou_thres=0.45, max_det=1000, device=0, view_img=False, save_txt=False, save_conf=False, save_crop=False, nosave=False, classes=None, agnostic_nms=False, augment=False, visualize=False, update=False, project=runs/detect, name=exp, exist_ok=False, line_thickness=3, hide_labels=False, hide_conf=False, half=False, dnn=False, vid_stride=1\n",
            "YOLOv5 🚀 1e33dbb Python-3.10.12 torch-2.3.0+cu121 CUDA:0 (Tesla T4, 15102MiB)\n",
            "\n",
            "Fusing layers... \n",
            "Model summary: 1119 layers, 69470144 parameters, 0 gradients\n",
            "image 1/1 /content/drive/MyDrive/yolov9/thumnails/images/image_21.jpg: 416x640 1 person, 301.1ms\n",
            "Speed: 0.7ms pre-process, 301.1ms inference, 1022.8ms NMS per image at shape (1, 3, 640, 640)\n",
            "Results saved to \u001b[1mruns/detect/exp\u001b[0m\n",
            "\u001b[34m\u001b[1mdetect_md: \u001b[0mweights=['/content/drive/MyDrive/yolov9//weights/yolov9-e.pt'], source=/content/drive/MyDrive/yolov9//thumnails/images/image_1.jpg, data=data/coco128.yaml, imgsz=[640, 640], conf_thres=0.1, iou_thres=0.45, max_det=1000, device=0, view_img=False, save_txt=False, save_conf=False, save_crop=False, nosave=False, classes=None, agnostic_nms=False, augment=False, visualize=False, update=False, project=runs/detect, name=exp, exist_ok=False, line_thickness=3, hide_labels=False, hide_conf=False, half=False, dnn=False, vid_stride=1\n",
            "YOLOv5 🚀 1e33dbb Python-3.10.12 torch-2.3.0+cu121 CUDA:0 (Tesla T4, 15102MiB)\n",
            "\n",
            "Fusing layers... \n",
            "Model summary: 1119 layers, 69470144 parameters, 0 gradients\n",
            "image 1/1 /content/drive/MyDrive/yolov9/thumnails/images/image_1.jpg: 416x640 1 person, 1 backpack, 3 cups, 4 chairs, 1 couch, 3 potted plants, 1 laptop, 1 keyboard, 1 vase, 151.7ms\n",
            "Speed: 0.6ms pre-process, 151.7ms inference, 703.7ms NMS per image at shape (1, 3, 640, 640)\n",
            "Results saved to \u001b[1mruns/detect/exp\u001b[0m\n",
            "\u001b[34m\u001b[1mdetect_md: \u001b[0mweights=['/content/drive/MyDrive/yolov9//weights/yolov9-e.pt'], source=/content/drive/MyDrive/yolov9//thumnails/images/image_17.jpg, data=data/coco128.yaml, imgsz=[640, 640], conf_thres=0.1, iou_thres=0.45, max_det=1000, device=0, view_img=False, save_txt=False, save_conf=False, save_crop=False, nosave=False, classes=None, agnostic_nms=False, augment=False, visualize=False, update=False, project=runs/detect, name=exp, exist_ok=False, line_thickness=3, hide_labels=False, hide_conf=False, half=False, dnn=False, vid_stride=1\n",
            "YOLOv5 🚀 1e33dbb Python-3.10.12 torch-2.3.0+cu121 CUDA:0 (Tesla T4, 15102MiB)\n",
            "\n",
            "Fusing layers... \n",
            "Model summary: 1119 layers, 69470144 parameters, 0 gradients\n",
            "image 1/1 /content/drive/MyDrive/yolov9/thumnails/images/image_17.jpg: 384x640 1 person, 1 boat, 153.8ms\n",
            "Speed: 0.5ms pre-process, 153.8ms inference, 559.1ms NMS per image at shape (1, 3, 640, 640)\n",
            "Results saved to \u001b[1mruns/detect/exp\u001b[0m\n",
            "\u001b[34m\u001b[1mdetect_md: \u001b[0mweights=['/content/drive/MyDrive/yolov9//weights/yolov9-e.pt'], source=/content/drive/MyDrive/yolov9//thumnails/images/image_6.jpg, data=data/coco128.yaml, imgsz=[640, 640], conf_thres=0.1, iou_thres=0.45, max_det=1000, device=0, view_img=False, save_txt=False, save_conf=False, save_crop=False, nosave=False, classes=None, agnostic_nms=False, augment=False, visualize=False, update=False, project=runs/detect, name=exp, exist_ok=False, line_thickness=3, hide_labels=False, hide_conf=False, half=False, dnn=False, vid_stride=1\n",
            "YOLOv5 🚀 1e33dbb Python-3.10.12 torch-2.3.0+cu121 CUDA:0 (Tesla T4, 15102MiB)\n",
            "\n",
            "Fusing layers... \n",
            "Model summary: 1119 layers, 69470144 parameters, 0 gradients\n",
            "image 1/1 /content/drive/MyDrive/yolov9/thumnails/images/image_6.jpg: 416x640 1 tv, 154.8ms\n",
            "Speed: 0.6ms pre-process, 154.8ms inference, 622.8ms NMS per image at shape (1, 3, 640, 640)\n",
            "Results saved to \u001b[1mruns/detect/exp\u001b[0m\n",
            "\u001b[34m\u001b[1mdetect_md: \u001b[0mweights=['/content/drive/MyDrive/yolov9//weights/yolov9-e.pt'], source=/content/drive/MyDrive/yolov9//thumnails/images/image_5.jpg, data=data/coco128.yaml, imgsz=[640, 640], conf_thres=0.1, iou_thres=0.45, max_det=1000, device=0, view_img=False, save_txt=False, save_conf=False, save_crop=False, nosave=False, classes=None, agnostic_nms=False, augment=False, visualize=False, update=False, project=runs/detect, name=exp, exist_ok=False, line_thickness=3, hide_labels=False, hide_conf=False, half=False, dnn=False, vid_stride=1\n",
            "YOLOv5 🚀 1e33dbb Python-3.10.12 torch-2.3.0+cu121 CUDA:0 (Tesla T4, 15102MiB)\n",
            "\n",
            "Fusing layers... \n",
            "Model summary: 1119 layers, 69470144 parameters, 0 gradients\n",
            "image 1/1 /content/drive/MyDrive/yolov9/thumnails/images/image_5.jpg: 416x640 1 boat, 1 umbrella, 153.6ms\n",
            "Speed: 0.6ms pre-process, 153.6ms inference, 514.2ms NMS per image at shape (1, 3, 640, 640)\n",
            "Results saved to \u001b[1mruns/detect/exp\u001b[0m\n",
            "\u001b[34m\u001b[1mdetect_md: \u001b[0mweights=['/content/drive/MyDrive/yolov9//weights/yolov9-e.pt'], source=/content/drive/MyDrive/yolov9//thumnails/images/image_38.jpg, data=data/coco128.yaml, imgsz=[640, 640], conf_thres=0.1, iou_thres=0.45, max_det=1000, device=0, view_img=False, save_txt=False, save_conf=False, save_crop=False, nosave=False, classes=None, agnostic_nms=False, augment=False, visualize=False, update=False, project=runs/detect, name=exp, exist_ok=False, line_thickness=3, hide_labels=False, hide_conf=False, half=False, dnn=False, vid_stride=1\n",
            "YOLOv5 🚀 1e33dbb Python-3.10.12 torch-2.3.0+cu121 CUDA:0 (Tesla T4, 15102MiB)\n",
            "\n",
            "Fusing layers... \n",
            "Model summary: 1119 layers, 69470144 parameters, 0 gradients\n",
            "image 1/1 /content/drive/MyDrive/yolov9/thumnails/images/image_38.jpg: 416x640 2 persons, 1 tie, 153.6ms\n",
            "Speed: 0.5ms pre-process, 153.6ms inference, 579.4ms NMS per image at shape (1, 3, 640, 640)\n",
            "Results saved to \u001b[1mruns/detect/exp\u001b[0m\n",
            "\u001b[34m\u001b[1mdetect_md: \u001b[0mweights=['/content/drive/MyDrive/yolov9//weights/yolov9-e.pt'], source=/content/drive/MyDrive/yolov9//thumnails/images/image_16.jpg, data=data/coco128.yaml, imgsz=[640, 640], conf_thres=0.1, iou_thres=0.45, max_det=1000, device=0, view_img=False, save_txt=False, save_conf=False, save_crop=False, nosave=False, classes=None, agnostic_nms=False, augment=False, visualize=False, update=False, project=runs/detect, name=exp, exist_ok=False, line_thickness=3, hide_labels=False, hide_conf=False, half=False, dnn=False, vid_stride=1\n",
            "YOLOv5 🚀 1e33dbb Python-3.10.12 torch-2.3.0+cu121 CUDA:0 (Tesla T4, 15102MiB)\n",
            "\n",
            "Fusing layers... \n",
            "Model summary: 1119 layers, 69470144 parameters, 0 gradients\n",
            "image 1/1 /content/drive/MyDrive/yolov9/thumnails/images/image_16.jpg: 416x640 1 person, 1 tv, 152.8ms\n",
            "Speed: 0.6ms pre-process, 152.8ms inference, 585.9ms NMS per image at shape (1, 3, 640, 640)\n",
            "Results saved to \u001b[1mruns/detect/exp\u001b[0m\n",
            "\u001b[34m\u001b[1mdetect_md: \u001b[0mweights=['/content/drive/MyDrive/yolov9//weights/yolov9-e.pt'], source=/content/drive/MyDrive/yolov9//thumnails/images/image_58.jpg, data=data/coco128.yaml, imgsz=[640, 640], conf_thres=0.1, iou_thres=0.45, max_det=1000, device=0, view_img=False, save_txt=False, save_conf=False, save_crop=False, nosave=False, classes=None, agnostic_nms=False, augment=False, visualize=False, update=False, project=runs/detect, name=exp, exist_ok=False, line_thickness=3, hide_labels=False, hide_conf=False, half=False, dnn=False, vid_stride=1\n",
            "YOLOv5 🚀 1e33dbb Python-3.10.12 torch-2.3.0+cu121 CUDA:0 (Tesla T4, 15102MiB)\n",
            "\n",
            "Fusing layers... \n",
            "Model summary: 1119 layers, 69470144 parameters, 0 gradients\n",
            "image 1/1 /content/drive/MyDrive/yolov9/thumnails/images/image_58.jpg: 416x640 2 persons, 1 tie, 1 tv, 229.9ms\n",
            "Speed: 1.7ms pre-process, 229.9ms inference, 904.1ms NMS per image at shape (1, 3, 640, 640)\n",
            "Results saved to \u001b[1mruns/detect/exp\u001b[0m\n",
            "\u001b[34m\u001b[1mdetect_md: \u001b[0mweights=['/content/drive/MyDrive/yolov9//weights/yolov9-e.pt'], source=/content/drive/MyDrive/yolov9//thumnails/images/image_49.jpg, data=data/coco128.yaml, imgsz=[640, 640], conf_thres=0.1, iou_thres=0.45, max_det=1000, device=0, view_img=False, save_txt=False, save_conf=False, save_crop=False, nosave=False, classes=None, agnostic_nms=False, augment=False, visualize=False, update=False, project=runs/detect, name=exp, exist_ok=False, line_thickness=3, hide_labels=False, hide_conf=False, half=False, dnn=False, vid_stride=1\n",
            "YOLOv5 🚀 1e33dbb Python-3.10.12 torch-2.3.0+cu121 CUDA:0 (Tesla T4, 15102MiB)\n",
            "\n",
            "Fusing layers... \n",
            "Model summary: 1119 layers, 69470144 parameters, 0 gradients\n",
            "image 1/1 /content/drive/MyDrive/yolov9/thumnails/images/image_49.jpg: 416x640 1 person, 1 sports ball, 147.3ms\n",
            "Speed: 0.6ms pre-process, 147.3ms inference, 521.0ms NMS per image at shape (1, 3, 640, 640)\n",
            "Results saved to \u001b[1mruns/detect/exp\u001b[0m\n",
            "\u001b[34m\u001b[1mdetect_md: \u001b[0mweights=['/content/drive/MyDrive/yolov9//weights/yolov9-e.pt'], source=/content/drive/MyDrive/yolov9//thumnails/images/image_26.jpg, data=data/coco128.yaml, imgsz=[640, 640], conf_thres=0.1, iou_thres=0.45, max_det=1000, device=0, view_img=False, save_txt=False, save_conf=False, save_crop=False, nosave=False, classes=None, agnostic_nms=False, augment=False, visualize=False, update=False, project=runs/detect, name=exp, exist_ok=False, line_thickness=3, hide_labels=False, hide_conf=False, half=False, dnn=False, vid_stride=1\n",
            "YOLOv5 🚀 1e33dbb Python-3.10.12 torch-2.3.0+cu121 CUDA:0 (Tesla T4, 15102MiB)\n",
            "\n",
            "Fusing layers... \n",
            "Model summary: 1119 layers, 69470144 parameters, 0 gradients\n",
            "image 1/1 /content/drive/MyDrive/yolov9/thumnails/images/image_26.jpg: 416x640 1 person, 1 tv, 152.7ms\n",
            "Speed: 0.6ms pre-process, 152.7ms inference, 693.2ms NMS per image at shape (1, 3, 640, 640)\n",
            "Results saved to \u001b[1mruns/detect/exp\u001b[0m\n",
            "\u001b[34m\u001b[1mdetect_md: \u001b[0mweights=['/content/drive/MyDrive/yolov9//weights/yolov9-e.pt'], source=/content/drive/MyDrive/yolov9//thumnails/images/image_61.jpg, data=data/coco128.yaml, imgsz=[640, 640], conf_thres=0.1, iou_thres=0.45, max_det=1000, device=0, view_img=False, save_txt=False, save_conf=False, save_crop=False, nosave=False, classes=None, agnostic_nms=False, augment=False, visualize=False, update=False, project=runs/detect, name=exp, exist_ok=False, line_thickness=3, hide_labels=False, hide_conf=False, half=False, dnn=False, vid_stride=1\n",
            "YOLOv5 🚀 1e33dbb Python-3.10.12 torch-2.3.0+cu121 CUDA:0 (Tesla T4, 15102MiB)\n",
            "\n",
            "Fusing layers... \n",
            "Model summary: 1119 layers, 69470144 parameters, 0 gradients\n",
            "image 1/1 /content/drive/MyDrive/yolov9/thumnails/images/image_61.jpg: 416x640 1 person, 1 sports ball, 1 cup, 1 chair, 1 tv, 2 mouses, 1 keyboard, 1 scissors, 155.5ms\n",
            "Speed: 0.6ms pre-process, 155.5ms inference, 625.8ms NMS per image at shape (1, 3, 640, 640)\n",
            "Results saved to \u001b[1mruns/detect/exp\u001b[0m\n",
            "\u001b[34m\u001b[1mdetect_md: \u001b[0mweights=['/content/drive/MyDrive/yolov9//weights/yolov9-e.pt'], source=/content/drive/MyDrive/yolov9//thumnails/images/image_51.jpg, data=data/coco128.yaml, imgsz=[640, 640], conf_thres=0.1, iou_thres=0.45, max_det=1000, device=0, view_img=False, save_txt=False, save_conf=False, save_crop=False, nosave=False, classes=None, agnostic_nms=False, augment=False, visualize=False, update=False, project=runs/detect, name=exp, exist_ok=False, line_thickness=3, hide_labels=False, hide_conf=False, half=False, dnn=False, vid_stride=1\n",
            "YOLOv5 🚀 1e33dbb Python-3.10.12 torch-2.3.0+cu121 CUDA:0 (Tesla T4, 15102MiB)\n",
            "\n",
            "Fusing layers... \n",
            "Model summary: 1119 layers, 69470144 parameters, 0 gradients\n",
            "image 1/1 /content/drive/MyDrive/yolov9/thumnails/images/image_51.jpg: 416x640 1 person, 169.7ms\n",
            "Speed: 0.6ms pre-process, 169.7ms inference, 544.2ms NMS per image at shape (1, 3, 640, 640)\n",
            "Results saved to \u001b[1mruns/detect/exp\u001b[0m\n",
            "\u001b[34m\u001b[1mdetect_md: \u001b[0mweights=['/content/drive/MyDrive/yolov9//weights/yolov9-e.pt'], source=/content/drive/MyDrive/yolov9//thumnails/images/image_41.jpg, data=data/coco128.yaml, imgsz=[640, 640], conf_thres=0.1, iou_thres=0.45, max_det=1000, device=0, view_img=False, save_txt=False, save_conf=False, save_crop=False, nosave=False, classes=None, agnostic_nms=False, augment=False, visualize=False, update=False, project=runs/detect, name=exp, exist_ok=False, line_thickness=3, hide_labels=False, hide_conf=False, half=False, dnn=False, vid_stride=1\n",
            "YOLOv5 🚀 1e33dbb Python-3.10.12 torch-2.3.0+cu121 CUDA:0 (Tesla T4, 15102MiB)\n",
            "\n",
            "Fusing layers... \n",
            "Model summary: 1119 layers, 69470144 parameters, 0 gradients\n",
            "image 1/1 /content/drive/MyDrive/yolov9/thumnails/images/image_41.jpg: 416x640 2 persons, 1 bus, 1 train, 1 backpack, 1 tv, 159.4ms\n",
            "Speed: 0.6ms pre-process, 159.4ms inference, 511.6ms NMS per image at shape (1, 3, 640, 640)\n",
            "Results saved to \u001b[1mruns/detect/exp\u001b[0m\n",
            "\u001b[34m\u001b[1mdetect_md: \u001b[0mweights=['/content/drive/MyDrive/yolov9//weights/yolov9-e.pt'], source=/content/drive/MyDrive/yolov9//thumnails/images/image_15.jpg, data=data/coco128.yaml, imgsz=[640, 640], conf_thres=0.1, iou_thres=0.45, max_det=1000, device=0, view_img=False, save_txt=False, save_conf=False, save_crop=False, nosave=False, classes=None, agnostic_nms=False, augment=False, visualize=False, update=False, project=runs/detect, name=exp, exist_ok=False, line_thickness=3, hide_labels=False, hide_conf=False, half=False, dnn=False, vid_stride=1\n",
            "YOLOv5 🚀 1e33dbb Python-3.10.12 torch-2.3.0+cu121 CUDA:0 (Tesla T4, 15102MiB)\n",
            "\n",
            "Fusing layers... \n",
            "Model summary: 1119 layers, 69470144 parameters, 0 gradients\n",
            "image 1/1 /content/drive/MyDrive/yolov9/thumnails/images/image_15.jpg: 416x640 2 persons, 1 cat, 2 chairs, 1 tv, 154.2ms\n",
            "Speed: 0.6ms pre-process, 154.2ms inference, 508.7ms NMS per image at shape (1, 3, 640, 640)\n",
            "Results saved to \u001b[1mruns/detect/exp\u001b[0m\n",
            "\u001b[34m\u001b[1mdetect_md: \u001b[0mweights=['/content/drive/MyDrive/yolov9//weights/yolov9-e.pt'], source=/content/drive/MyDrive/yolov9//thumnails/images/image_65.jpg, data=data/coco128.yaml, imgsz=[640, 640], conf_thres=0.1, iou_thres=0.45, max_det=1000, device=0, view_img=False, save_txt=False, save_conf=False, save_crop=False, nosave=False, classes=None, agnostic_nms=False, augment=False, visualize=False, update=False, project=runs/detect, name=exp, exist_ok=False, line_thickness=3, hide_labels=False, hide_conf=False, half=False, dnn=False, vid_stride=1\n",
            "YOLOv5 🚀 1e33dbb Python-3.10.12 torch-2.3.0+cu121 CUDA:0 (Tesla T4, 15102MiB)\n",
            "\n",
            "Fusing layers... \n",
            "Model summary: 1119 layers, 69470144 parameters, 0 gradients\n",
            "image 1/1 /content/drive/MyDrive/yolov9/thumnails/images/image_65.jpg: 416x640 1 person, 1 tv, 1 cell phone, 248.3ms\n",
            "Speed: 0.6ms pre-process, 248.3ms inference, 888.8ms NMS per image at shape (1, 3, 640, 640)\n",
            "Results saved to \u001b[1mruns/detect/exp\u001b[0m\n",
            "\u001b[34m\u001b[1mdetect_md: \u001b[0mweights=['/content/drive/MyDrive/yolov9//weights/yolov9-e.pt'], source=/content/drive/MyDrive/yolov9//thumnails/images/image_33.jpg, data=data/coco128.yaml, imgsz=[640, 640], conf_thres=0.1, iou_thres=0.45, max_det=1000, device=0, view_img=False, save_txt=False, save_conf=False, save_crop=False, nosave=False, classes=None, agnostic_nms=False, augment=False, visualize=False, update=False, project=runs/detect, name=exp, exist_ok=False, line_thickness=3, hide_labels=False, hide_conf=False, half=False, dnn=False, vid_stride=1\n",
            "YOLOv5 🚀 1e33dbb Python-3.10.12 torch-2.3.0+cu121 CUDA:0 (Tesla T4, 15102MiB)\n",
            "\n",
            "Fusing layers... \n",
            "Model summary: 1119 layers, 69470144 parameters, 0 gradients\n",
            "image 1/1 /content/drive/MyDrive/yolov9/thumnails/images/image_33.jpg: 416x640 1 person, 1 backpack, 2 cups, 1 chair, 5 potted plants, 7 books, 4 vases, 152.3ms\n",
            "Speed: 0.6ms pre-process, 152.3ms inference, 528.4ms NMS per image at shape (1, 3, 640, 640)\n",
            "Results saved to \u001b[1mruns/detect/exp\u001b[0m\n",
            "\u001b[34m\u001b[1mdetect_md: \u001b[0mweights=['/content/drive/MyDrive/yolov9//weights/yolov9-e.pt'], source=/content/drive/MyDrive/yolov9//thumnails/images/image_25.jpg, data=data/coco128.yaml, imgsz=[640, 640], conf_thres=0.1, iou_thres=0.45, max_det=1000, device=0, view_img=False, save_txt=False, save_conf=False, save_crop=False, nosave=False, classes=None, agnostic_nms=False, augment=False, visualize=False, update=False, project=runs/detect, name=exp, exist_ok=False, line_thickness=3, hide_labels=False, hide_conf=False, half=False, dnn=False, vid_stride=1\n",
            "YOLOv5 🚀 1e33dbb Python-3.10.12 torch-2.3.0+cu121 CUDA:0 (Tesla T4, 15102MiB)\n",
            "\n",
            "Fusing layers... \n",
            "Model summary: 1119 layers, 69470144 parameters, 0 gradients\n",
            "image 1/1 /content/drive/MyDrive/yolov9/thumnails/images/image_25.jpg: 416x640 (no detections), 157.9ms\n",
            "Speed: 0.6ms pre-process, 157.9ms inference, 31.6ms NMS per image at shape (1, 3, 640, 640)\n",
            "Results saved to \u001b[1mruns/detect/exp\u001b[0m\n",
            "\u001b[34m\u001b[1mdetect_md: \u001b[0mweights=['/content/drive/MyDrive/yolov9//weights/yolov9-e.pt'], source=/content/drive/MyDrive/yolov9//thumnails/images/image_66.jpg, data=data/coco128.yaml, imgsz=[640, 640], conf_thres=0.1, iou_thres=0.45, max_det=1000, device=0, view_img=False, save_txt=False, save_conf=False, save_crop=False, nosave=False, classes=None, agnostic_nms=False, augment=False, visualize=False, update=False, project=runs/detect, name=exp, exist_ok=False, line_thickness=3, hide_labels=False, hide_conf=False, half=False, dnn=False, vid_stride=1\n",
            "YOLOv5 🚀 1e33dbb Python-3.10.12 torch-2.3.0+cu121 CUDA:0 (Tesla T4, 15102MiB)\n",
            "\n",
            "Fusing layers... \n",
            "Model summary: 1119 layers, 69470144 parameters, 0 gradients\n",
            "image 1/1 /content/drive/MyDrive/yolov9/thumnails/images/image_66.jpg: 416x640 2 persons, 1 horse, 268.8ms\n",
            "Speed: 0.7ms pre-process, 268.8ms inference, 826.7ms NMS per image at shape (1, 3, 640, 640)\n",
            "Results saved to \u001b[1mruns/detect/exp\u001b[0m\n",
            "\u001b[34m\u001b[1mdetect_md: \u001b[0mweights=['/content/drive/MyDrive/yolov9//weights/yolov9-e.pt'], source=/content/drive/MyDrive/yolov9//thumnails/images/image_57.jpg, data=data/coco128.yaml, imgsz=[640, 640], conf_thres=0.1, iou_thres=0.45, max_det=1000, device=0, view_img=False, save_txt=False, save_conf=False, save_crop=False, nosave=False, classes=None, agnostic_nms=False, augment=False, visualize=False, update=False, project=runs/detect, name=exp, exist_ok=False, line_thickness=3, hide_labels=False, hide_conf=False, half=False, dnn=False, vid_stride=1\n",
            "YOLOv5 🚀 1e33dbb Python-3.10.12 torch-2.3.0+cu121 CUDA:0 (Tesla T4, 15102MiB)\n",
            "\n",
            "Fusing layers... \n",
            "Model summary: 1119 layers, 69470144 parameters, 0 gradients\n",
            "image 1/1 /content/drive/MyDrive/yolov9/thumnails/images/image_57.jpg: 384x640 5 persons, 153.7ms\n",
            "Speed: 0.6ms pre-process, 153.7ms inference, 499.7ms NMS per image at shape (1, 3, 640, 640)\n",
            "Results saved to \u001b[1mruns/detect/exp\u001b[0m\n",
            "\u001b[34m\u001b[1mdetect_md: \u001b[0mweights=['/content/drive/MyDrive/yolov9//weights/yolov9-e.pt'], source=/content/drive/MyDrive/yolov9//thumnails/images/image_54.jpg, data=data/coco128.yaml, imgsz=[640, 640], conf_thres=0.1, iou_thres=0.45, max_det=1000, device=0, view_img=False, save_txt=False, save_conf=False, save_crop=False, nosave=False, classes=None, agnostic_nms=False, augment=False, visualize=False, update=False, project=runs/detect, name=exp, exist_ok=False, line_thickness=3, hide_labels=False, hide_conf=False, half=False, dnn=False, vid_stride=1\n",
            "YOLOv5 🚀 1e33dbb Python-3.10.12 torch-2.3.0+cu121 CUDA:0 (Tesla T4, 15102MiB)\n",
            "\n",
            "Fusing layers... \n",
            "Model summary: 1119 layers, 69470144 parameters, 0 gradients\n",
            "image 1/1 /content/drive/MyDrive/yolov9/thumnails/images/image_54.jpg: 416x640 1 tv, 170.9ms\n",
            "Speed: 0.7ms pre-process, 170.9ms inference, 662.6ms NMS per image at shape (1, 3, 640, 640)\n",
            "Results saved to \u001b[1mruns/detect/exp\u001b[0m\n",
            "\u001b[34m\u001b[1mdetect_md: \u001b[0mweights=['/content/drive/MyDrive/yolov9//weights/yolov9-e.pt'], source=/content/drive/MyDrive/yolov9//thumnails/images/image_59.jpg, data=data/coco128.yaml, imgsz=[640, 640], conf_thres=0.1, iou_thres=0.45, max_det=1000, device=0, view_img=False, save_txt=False, save_conf=False, save_crop=False, nosave=False, classes=None, agnostic_nms=False, augment=False, visualize=False, update=False, project=runs/detect, name=exp, exist_ok=False, line_thickness=3, hide_labels=False, hide_conf=False, half=False, dnn=False, vid_stride=1\n",
            "YOLOv5 🚀 1e33dbb Python-3.10.12 torch-2.3.0+cu121 CUDA:0 (Tesla T4, 15102MiB)\n",
            "\n",
            "Fusing layers... \n",
            "Model summary: 1119 layers, 69470144 parameters, 0 gradients\n",
            "image 1/1 /content/drive/MyDrive/yolov9/thumnails/images/image_59.jpg: 416x640 2 persons, 151.3ms\n",
            "Speed: 0.6ms pre-process, 151.3ms inference, 543.2ms NMS per image at shape (1, 3, 640, 640)\n",
            "Results saved to \u001b[1mruns/detect/exp\u001b[0m\n",
            "\u001b[34m\u001b[1mdetect_md: \u001b[0mweights=['/content/drive/MyDrive/yolov9//weights/yolov9-e.pt'], source=/content/drive/MyDrive/yolov9//thumnails/images/image_48.jpg, data=data/coco128.yaml, imgsz=[640, 640], conf_thres=0.1, iou_thres=0.45, max_det=1000, device=0, view_img=False, save_txt=False, save_conf=False, save_crop=False, nosave=False, classes=None, agnostic_nms=False, augment=False, visualize=False, update=False, project=runs/detect, name=exp, exist_ok=False, line_thickness=3, hide_labels=False, hide_conf=False, half=False, dnn=False, vid_stride=1\n",
            "YOLOv5 🚀 1e33dbb Python-3.10.12 torch-2.3.0+cu121 CUDA:0 (Tesla T4, 15102MiB)\n",
            "\n",
            "Fusing layers... \n",
            "Model summary: 1119 layers, 69470144 parameters, 0 gradients\n",
            "image 1/1 /content/drive/MyDrive/yolov9/thumnails/images/image_48.jpg: 416x640 5 persons, 153.3ms\n",
            "Speed: 0.6ms pre-process, 153.3ms inference, 623.9ms NMS per image at shape (1, 3, 640, 640)\n",
            "Results saved to \u001b[1mruns/detect/exp\u001b[0m\n",
            "\u001b[34m\u001b[1mdetect_md: \u001b[0mweights=['/content/drive/MyDrive/yolov9//weights/yolov9-e.pt'], source=/content/drive/MyDrive/yolov9//thumnails/images/image_64.jpg, data=data/coco128.yaml, imgsz=[640, 640], conf_thres=0.1, iou_thres=0.45, max_det=1000, device=0, view_img=False, save_txt=False, save_conf=False, save_crop=False, nosave=False, classes=None, agnostic_nms=False, augment=False, visualize=False, update=False, project=runs/detect, name=exp, exist_ok=False, line_thickness=3, hide_labels=False, hide_conf=False, half=False, dnn=False, vid_stride=1\n",
            "YOLOv5 🚀 1e33dbb Python-3.10.12 torch-2.3.0+cu121 CUDA:0 (Tesla T4, 15102MiB)\n",
            "\n",
            "Fusing layers... \n",
            "Model summary: 1119 layers, 69470144 parameters, 0 gradients\n",
            "image 1/1 /content/drive/MyDrive/yolov9/thumnails/images/image_64.jpg: 416x640 1 person, 1 cat, 1 dog, 2 potted plants, 1 bed, 1 laptop, 1 clock, 154.6ms\n",
            "Speed: 0.7ms pre-process, 154.6ms inference, 726.8ms NMS per image at shape (1, 3, 640, 640)\n",
            "Results saved to \u001b[1mruns/detect/exp\u001b[0m\n",
            "\u001b[34m\u001b[1mdetect_md: \u001b[0mweights=['/content/drive/MyDrive/yolov9//weights/yolov9-e.pt'], source=/content/drive/MyDrive/yolov9//thumnails/images/image_43.jpg, data=data/coco128.yaml, imgsz=[640, 640], conf_thres=0.1, iou_thres=0.45, max_det=1000, device=0, view_img=False, save_txt=False, save_conf=False, save_crop=False, nosave=False, classes=None, agnostic_nms=False, augment=False, visualize=False, update=False, project=runs/detect, name=exp, exist_ok=False, line_thickness=3, hide_labels=False, hide_conf=False, half=False, dnn=False, vid_stride=1\n",
            "YOLOv5 🚀 1e33dbb Python-3.10.12 torch-2.3.0+cu121 CUDA:0 (Tesla T4, 15102MiB)\n",
            "\n",
            "Fusing layers... \n",
            "Model summary: 1119 layers, 69470144 parameters, 0 gradients\n",
            "image 1/1 /content/drive/MyDrive/yolov9/thumnails/images/image_43.jpg: 416x640 1 person, 1 chair, 167.0ms\n",
            "Speed: 0.6ms pre-process, 167.0ms inference, 602.4ms NMS per image at shape (1, 3, 640, 640)\n",
            "Results saved to \u001b[1mruns/detect/exp\u001b[0m\n",
            "\u001b[34m\u001b[1mdetect_md: \u001b[0mweights=['/content/drive/MyDrive/yolov9//weights/yolov9-e.pt'], source=/content/drive/MyDrive/yolov9//thumnails/images/image_55.jpg, data=data/coco128.yaml, imgsz=[640, 640], conf_thres=0.1, iou_thres=0.45, max_det=1000, device=0, view_img=False, save_txt=False, save_conf=False, save_crop=False, nosave=False, classes=None, agnostic_nms=False, augment=False, visualize=False, update=False, project=runs/detect, name=exp, exist_ok=False, line_thickness=3, hide_labels=False, hide_conf=False, half=False, dnn=False, vid_stride=1\n",
            "YOLOv5 🚀 1e33dbb Python-3.10.12 torch-2.3.0+cu121 CUDA:0 (Tesla T4, 15102MiB)\n",
            "\n",
            "Fusing layers... \n",
            "Model summary: 1119 layers, 69470144 parameters, 0 gradients\n",
            "image 1/1 /content/drive/MyDrive/yolov9/thumnails/images/image_55.jpg: 384x640 2 persons, 2 benchs, 249.1ms\n",
            "Speed: 0.7ms pre-process, 249.1ms inference, 1044.6ms NMS per image at shape (1, 3, 640, 640)\n",
            "Results saved to \u001b[1mruns/detect/exp\u001b[0m\n",
            "\u001b[34m\u001b[1mdetect_md: \u001b[0mweights=['/content/drive/MyDrive/yolov9//weights/yolov9-e.pt'], source=/content/drive/MyDrive/yolov9//thumnails/images/image_20.jpg, data=data/coco128.yaml, imgsz=[640, 640], conf_thres=0.1, iou_thres=0.45, max_det=1000, device=0, view_img=False, save_txt=False, save_conf=False, save_crop=False, nosave=False, classes=None, agnostic_nms=False, augment=False, visualize=False, update=False, project=runs/detect, name=exp, exist_ok=False, line_thickness=3, hide_labels=False, hide_conf=False, half=False, dnn=False, vid_stride=1\n",
            "YOLOv5 🚀 1e33dbb Python-3.10.12 torch-2.3.0+cu121 CUDA:0 (Tesla T4, 15102MiB)\n",
            "\n",
            "Fusing layers... \n",
            "Model summary: 1119 layers, 69470144 parameters, 0 gradients\n",
            "image 1/1 /content/drive/MyDrive/yolov9/thumnails/images/image_20.jpg: 416x640 1 bench, 1 suitcase, 242.6ms\n",
            "Speed: 0.7ms pre-process, 242.6ms inference, 601.7ms NMS per image at shape (1, 3, 640, 640)\n",
            "Results saved to \u001b[1mruns/detect/exp\u001b[0m\n",
            "\u001b[34m\u001b[1mdetect_md: \u001b[0mweights=['/content/drive/MyDrive/yolov9//weights/yolov9-e.pt'], source=/content/drive/MyDrive/yolov9//thumnails/images/image_8.jpg, data=data/coco128.yaml, imgsz=[640, 640], conf_thres=0.1, iou_thres=0.45, max_det=1000, device=0, view_img=False, save_txt=False, save_conf=False, save_crop=False, nosave=False, classes=None, agnostic_nms=False, augment=False, visualize=False, update=False, project=runs/detect, name=exp, exist_ok=False, line_thickness=3, hide_labels=False, hide_conf=False, half=False, dnn=False, vid_stride=1\n",
            "YOLOv5 🚀 1e33dbb Python-3.10.12 torch-2.3.0+cu121 CUDA:0 (Tesla T4, 15102MiB)\n",
            "\n",
            "Fusing layers... \n",
            "Model summary: 1119 layers, 69470144 parameters, 0 gradients\n",
            "image 1/1 /content/drive/MyDrive/yolov9/thumnails/images/image_8.jpg: 416x640 1 person, 1 cat, 2 bottles, 1 cup, 1 bowl, 4 chairs, 1 couch, 1 potted plant, 1 dining table, 3 vases, 160.2ms\n",
            "Speed: 0.6ms pre-process, 160.2ms inference, 547.8ms NMS per image at shape (1, 3, 640, 640)\n",
            "Results saved to \u001b[1mruns/detect/exp\u001b[0m\n",
            "\u001b[34m\u001b[1mdetect_md: \u001b[0mweights=['/content/drive/MyDrive/yolov9//weights/yolov9-e.pt'], source=/content/drive/MyDrive/yolov9//thumnails/images/image_37.jpg, data=data/coco128.yaml, imgsz=[640, 640], conf_thres=0.1, iou_thres=0.45, max_det=1000, device=0, view_img=False, save_txt=False, save_conf=False, save_crop=False, nosave=False, classes=None, agnostic_nms=False, augment=False, visualize=False, update=False, project=runs/detect, name=exp, exist_ok=False, line_thickness=3, hide_labels=False, hide_conf=False, half=False, dnn=False, vid_stride=1\n",
            "YOLOv5 🚀 1e33dbb Python-3.10.12 torch-2.3.0+cu121 CUDA:0 (Tesla T4, 15102MiB)\n",
            "\n",
            "Fusing layers... \n",
            "Model summary: 1119 layers, 69470144 parameters, 0 gradients\n",
            "image 1/1 /content/drive/MyDrive/yolov9/thumnails/images/image_37.jpg: 416x640 1 kite, 160.9ms\n",
            "Speed: 0.6ms pre-process, 160.9ms inference, 575.9ms NMS per image at shape (1, 3, 640, 640)\n",
            "Results saved to \u001b[1mruns/detect/exp\u001b[0m\n",
            "\u001b[34m\u001b[1mdetect_md: \u001b[0mweights=['/content/drive/MyDrive/yolov9//weights/yolov9-e.pt'], source=/content/drive/MyDrive/yolov9//thumnails/images/image_27.jpg, data=data/coco128.yaml, imgsz=[640, 640], conf_thres=0.1, iou_thres=0.45, max_det=1000, device=0, view_img=False, save_txt=False, save_conf=False, save_crop=False, nosave=False, classes=None, agnostic_nms=False, augment=False, visualize=False, update=False, project=runs/detect, name=exp, exist_ok=False, line_thickness=3, hide_labels=False, hide_conf=False, half=False, dnn=False, vid_stride=1\n",
            "YOLOv5 🚀 1e33dbb Python-3.10.12 torch-2.3.0+cu121 CUDA:0 (Tesla T4, 15102MiB)\n",
            "\n",
            "Fusing layers... \n",
            "Model summary: 1119 layers, 69470144 parameters, 0 gradients\n",
            "image 1/1 /content/drive/MyDrive/yolov9/thumnails/images/image_27.jpg: 416x640 (no detections), 148.6ms\n",
            "Speed: 0.5ms pre-process, 148.6ms inference, 22.4ms NMS per image at shape (1, 3, 640, 640)\n",
            "Results saved to \u001b[1mruns/detect/exp\u001b[0m\n",
            "\u001b[34m\u001b[1mdetect_md: \u001b[0mweights=['/content/drive/MyDrive/yolov9//weights/yolov9-e.pt'], source=/content/drive/MyDrive/yolov9//thumnails/images/image_69.jpg, data=data/coco128.yaml, imgsz=[640, 640], conf_thres=0.1, iou_thres=0.45, max_det=1000, device=0, view_img=False, save_txt=False, save_conf=False, save_crop=False, nosave=False, classes=None, agnostic_nms=False, augment=False, visualize=False, update=False, project=runs/detect, name=exp, exist_ok=False, line_thickness=3, hide_labels=False, hide_conf=False, half=False, dnn=False, vid_stride=1\n",
            "YOLOv5 🚀 1e33dbb Python-3.10.12 torch-2.3.0+cu121 CUDA:0 (Tesla T4, 15102MiB)\n",
            "\n",
            "Fusing layers... \n",
            "Model summary: 1119 layers, 69470144 parameters, 0 gradients\n",
            "image 1/1 /content/drive/MyDrive/yolov9/thumnails/images/image_69.jpg: 416x640 1 person, 2 bottles, 1 bowl, 5 chairs, 2 couchs, 4 potted plants, 1 dining table, 3 books, 1 vase, 158.3ms\n",
            "Speed: 0.6ms pre-process, 158.3ms inference, 606.2ms NMS per image at shape (1, 3, 640, 640)\n",
            "Results saved to \u001b[1mruns/detect/exp\u001b[0m\n",
            "\u001b[34m\u001b[1mdetect_md: \u001b[0mweights=['/content/drive/MyDrive/yolov9//weights/yolov9-e.pt'], source=/content/drive/MyDrive/yolov9//thumnails/images/image_53.jpg, data=data/coco128.yaml, imgsz=[640, 640], conf_thres=0.1, iou_thres=0.45, max_det=1000, device=0, view_img=False, save_txt=False, save_conf=False, save_crop=False, nosave=False, classes=None, agnostic_nms=False, augment=False, visualize=False, update=False, project=runs/detect, name=exp, exist_ok=False, line_thickness=3, hide_labels=False, hide_conf=False, half=False, dnn=False, vid_stride=1\n",
            "YOLOv5 🚀 1e33dbb Python-3.10.12 torch-2.3.0+cu121 CUDA:0 (Tesla T4, 15102MiB)\n",
            "\n",
            "Fusing layers... \n",
            "Model summary: 1119 layers, 69470144 parameters, 0 gradients\n",
            "image 1/1 /content/drive/MyDrive/yolov9/thumnails/images/image_53.jpg: 384x640 2 persons, 1 bus, 1 bottle, 160.4ms\n",
            "Speed: 0.6ms pre-process, 160.4ms inference, 571.1ms NMS per image at shape (1, 3, 640, 640)\n",
            "Results saved to \u001b[1mruns/detect/exp\u001b[0m\n",
            "\u001b[34m\u001b[1mdetect_md: \u001b[0mweights=['/content/drive/MyDrive/yolov9//weights/yolov9-e.pt'], source=/content/drive/MyDrive/yolov9//thumnails/images/image_50.jpg, data=data/coco128.yaml, imgsz=[640, 640], conf_thres=0.1, iou_thres=0.45, max_det=1000, device=0, view_img=False, save_txt=False, save_conf=False, save_crop=False, nosave=False, classes=None, agnostic_nms=False, augment=False, visualize=False, update=False, project=runs/detect, name=exp, exist_ok=False, line_thickness=3, hide_labels=False, hide_conf=False, half=False, dnn=False, vid_stride=1\n",
            "YOLOv5 🚀 1e33dbb Python-3.10.12 torch-2.3.0+cu121 CUDA:0 (Tesla T4, 15102MiB)\n",
            "\n",
            "Fusing layers... \n",
            "Model summary: 1119 layers, 69470144 parameters, 0 gradients\n",
            "image 1/1 /content/drive/MyDrive/yolov9/thumnails/images/image_50.jpg: 416x640 2 suitcases, 1 tv, 151.2ms\n",
            "Speed: 0.6ms pre-process, 151.2ms inference, 583.5ms NMS per image at shape (1, 3, 640, 640)\n",
            "Results saved to \u001b[1mruns/detect/exp\u001b[0m\n",
            "\u001b[34m\u001b[1mdetect_md: \u001b[0mweights=['/content/drive/MyDrive/yolov9//weights/yolov9-e.pt'], source=/content/drive/MyDrive/yolov9//thumnails/images/image_7.jpg, data=data/coco128.yaml, imgsz=[640, 640], conf_thres=0.1, iou_thres=0.45, max_det=1000, device=0, view_img=False, save_txt=False, save_conf=False, save_crop=False, nosave=False, classes=None, agnostic_nms=False, augment=False, visualize=False, update=False, project=runs/detect, name=exp, exist_ok=False, line_thickness=3, hide_labels=False, hide_conf=False, half=False, dnn=False, vid_stride=1\n",
            "YOLOv5 🚀 1e33dbb Python-3.10.12 torch-2.3.0+cu121 CUDA:0 (Tesla T4, 15102MiB)\n",
            "\n",
            "Fusing layers... \n",
            "Model summary: 1119 layers, 69470144 parameters, 0 gradients\n",
            "image 1/1 /content/drive/MyDrive/yolov9/thumnails/images/image_7.jpg: 416x640 1 tv, 252.0ms\n",
            "Speed: 0.7ms pre-process, 252.0ms inference, 593.0ms NMS per image at shape (1, 3, 640, 640)\n",
            "Results saved to \u001b[1mruns/detect/exp\u001b[0m\n",
            "\u001b[34m\u001b[1mdetect_md: \u001b[0mweights=['/content/drive/MyDrive/yolov9//weights/yolov9-e.pt'], source=/content/drive/MyDrive/yolov9//thumnails/images/image_24.jpg, data=data/coco128.yaml, imgsz=[640, 640], conf_thres=0.1, iou_thres=0.45, max_det=1000, device=0, view_img=False, save_txt=False, save_conf=False, save_crop=False, nosave=False, classes=None, agnostic_nms=False, augment=False, visualize=False, update=False, project=runs/detect, name=exp, exist_ok=False, line_thickness=3, hide_labels=False, hide_conf=False, half=False, dnn=False, vid_stride=1\n",
            "YOLOv5 🚀 1e33dbb Python-3.10.12 torch-2.3.0+cu121 CUDA:0 (Tesla T4, 15102MiB)\n",
            "\n",
            "Fusing layers... \n",
            "Model summary: 1119 layers, 69470144 parameters, 0 gradients\n",
            "image 1/1 /content/drive/MyDrive/yolov9/thumnails/images/image_24.jpg: 416x640 1 person, 160.1ms\n",
            "Speed: 0.6ms pre-process, 160.1ms inference, 543.2ms NMS per image at shape (1, 3, 640, 640)\n",
            "Results saved to \u001b[1mruns/detect/exp\u001b[0m\n",
            "\u001b[34m\u001b[1mdetect_md: \u001b[0mweights=['/content/drive/MyDrive/yolov9//weights/yolov9-e.pt'], source=/content/drive/MyDrive/yolov9//thumnails/images/image_31.jpg, data=data/coco128.yaml, imgsz=[640, 640], conf_thres=0.1, iou_thres=0.45, max_det=1000, device=0, view_img=False, save_txt=False, save_conf=False, save_crop=False, nosave=False, classes=None, agnostic_nms=False, augment=False, visualize=False, update=False, project=runs/detect, name=exp, exist_ok=False, line_thickness=3, hide_labels=False, hide_conf=False, half=False, dnn=False, vid_stride=1\n",
            "YOLOv5 🚀 1e33dbb Python-3.10.12 torch-2.3.0+cu121 CUDA:0 (Tesla T4, 15102MiB)\n",
            "\n",
            "Fusing layers... \n",
            "Model summary: 1119 layers, 69470144 parameters, 0 gradients\n",
            "image 1/1 /content/drive/MyDrive/yolov9/thumnails/images/image_31.jpg: 416x640 1 banana, 151.5ms\n",
            "Speed: 0.6ms pre-process, 151.5ms inference, 575.3ms NMS per image at shape (1, 3, 640, 640)\n",
            "Results saved to \u001b[1mruns/detect/exp\u001b[0m\n",
            "\u001b[34m\u001b[1mdetect_md: \u001b[0mweights=['/content/drive/MyDrive/yolov9//weights/yolov9-e.pt'], source=/content/drive/MyDrive/yolov9//thumnails/images/image_4.jpg, data=data/coco128.yaml, imgsz=[640, 640], conf_thres=0.1, iou_thres=0.45, max_det=1000, device=0, view_img=False, save_txt=False, save_conf=False, save_crop=False, nosave=False, classes=None, agnostic_nms=False, augment=False, visualize=False, update=False, project=runs/detect, name=exp, exist_ok=False, line_thickness=3, hide_labels=False, hide_conf=False, half=False, dnn=False, vid_stride=1\n",
            "YOLOv5 🚀 1e33dbb Python-3.10.12 torch-2.3.0+cu121 CUDA:0 (Tesla T4, 15102MiB)\n",
            "\n",
            "Fusing layers... \n",
            "Model summary: 1119 layers, 69470144 parameters, 0 gradients\n",
            "image 1/1 /content/drive/MyDrive/yolov9/thumnails/images/image_4.jpg: 416x640 1 person, 1 bird, 1 backpack, 1 chair, 2 potted plants, 1 bed, 1 dining table, 1 laptop, 1 cell phone, 10 books, 1 vase, 1 teddy bear, 168.3ms\n",
            "Speed: 0.6ms pre-process, 168.3ms inference, 669.4ms NMS per image at shape (1, 3, 640, 640)\n",
            "Results saved to \u001b[1mruns/detect/exp\u001b[0m\n",
            "\u001b[34m\u001b[1mdetect_md: \u001b[0mweights=['/content/drive/MyDrive/yolov9//weights/yolov9-e.pt'], source=/content/drive/MyDrive/yolov9//thumnails/images/image_30.jpg, data=data/coco128.yaml, imgsz=[640, 640], conf_thres=0.1, iou_thres=0.45, max_det=1000, device=0, view_img=False, save_txt=False, save_conf=False, save_crop=False, nosave=False, classes=None, agnostic_nms=False, augment=False, visualize=False, update=False, project=runs/detect, name=exp, exist_ok=False, line_thickness=3, hide_labels=False, hide_conf=False, half=False, dnn=False, vid_stride=1\n",
            "YOLOv5 🚀 1e33dbb Python-3.10.12 torch-2.3.0+cu121 CUDA:0 (Tesla T4, 15102MiB)\n",
            "\n",
            "Fusing layers... \n",
            "Model summary: 1119 layers, 69470144 parameters, 0 gradients\n",
            "image 1/1 /content/drive/MyDrive/yolov9/thumnails/images/image_30.jpg: 416x640 1 person, 1 suitcase, 1 tv, 253.4ms\n",
            "Speed: 0.6ms pre-process, 253.4ms inference, 1044.6ms NMS per image at shape (1, 3, 640, 640)\n",
            "Results saved to \u001b[1mruns/detect/exp\u001b[0m\n",
            "\u001b[34m\u001b[1mdetect_md: \u001b[0mweights=['/content/drive/MyDrive/yolov9//weights/yolov9-e.pt'], source=/content/drive/MyDrive/yolov9//thumnails/images/image_62.jpg, data=data/coco128.yaml, imgsz=[640, 640], conf_thres=0.1, iou_thres=0.45, max_det=1000, device=0, view_img=False, save_txt=False, save_conf=False, save_crop=False, nosave=False, classes=None, agnostic_nms=False, augment=False, visualize=False, update=False, project=runs/detect, name=exp, exist_ok=False, line_thickness=3, hide_labels=False, hide_conf=False, half=False, dnn=False, vid_stride=1\n",
            "YOLOv5 🚀 1e33dbb Python-3.10.12 torch-2.3.0+cu121 CUDA:0 (Tesla T4, 15102MiB)\n",
            "\n",
            "Fusing layers... \n",
            "Model summary: 1119 layers, 69470144 parameters, 0 gradients\n",
            "image 1/1 /content/drive/MyDrive/yolov9/thumnails/images/image_62.jpg: 416x640 (no detections), 169.6ms\n",
            "Speed: 0.6ms pre-process, 169.6ms inference, 39.8ms NMS per image at shape (1, 3, 640, 640)\n",
            "Results saved to \u001b[1mruns/detect/exp\u001b[0m\n",
            "\u001b[34m\u001b[1mdetect_md: \u001b[0mweights=['/content/drive/MyDrive/yolov9//weights/yolov9-e.pt'], source=/content/drive/MyDrive/yolov9//thumnails/images/image_56.jpg, data=data/coco128.yaml, imgsz=[640, 640], conf_thres=0.1, iou_thres=0.45, max_det=1000, device=0, view_img=False, save_txt=False, save_conf=False, save_crop=False, nosave=False, classes=None, agnostic_nms=False, augment=False, visualize=False, update=False, project=runs/detect, name=exp, exist_ok=False, line_thickness=3, hide_labels=False, hide_conf=False, half=False, dnn=False, vid_stride=1\n",
            "YOLOv5 🚀 1e33dbb Python-3.10.12 torch-2.3.0+cu121 CUDA:0 (Tesla T4, 15102MiB)\n",
            "\n",
            "Fusing layers... \n",
            "Model summary: 1119 layers, 69470144 parameters, 0 gradients\n",
            "image 1/1 /content/drive/MyDrive/yolov9/thumnails/images/image_56.jpg: 416x640 1 person, 170.8ms\n",
            "Speed: 0.6ms pre-process, 170.8ms inference, 536.0ms NMS per image at shape (1, 3, 640, 640)\n",
            "Results saved to \u001b[1mruns/detect/exp\u001b[0m\n",
            "\u001b[34m\u001b[1mdetect_md: \u001b[0mweights=['/content/drive/MyDrive/yolov9//weights/yolov9-e.pt'], source=/content/drive/MyDrive/yolov9//thumnails/images/image_52.jpg, data=data/coco128.yaml, imgsz=[640, 640], conf_thres=0.1, iou_thres=0.45, max_det=1000, device=0, view_img=False, save_txt=False, save_conf=False, save_crop=False, nosave=False, classes=None, agnostic_nms=False, augment=False, visualize=False, update=False, project=runs/detect, name=exp, exist_ok=False, line_thickness=3, hide_labels=False, hide_conf=False, half=False, dnn=False, vid_stride=1\n",
            "YOLOv5 🚀 1e33dbb Python-3.10.12 torch-2.3.0+cu121 CUDA:0 (Tesla T4, 15102MiB)\n",
            "\n",
            "Fusing layers... \n",
            "Model summary: 1119 layers, 69470144 parameters, 0 gradients\n",
            "image 1/1 /content/drive/MyDrive/yolov9/thumnails/images/image_52.jpg: 416x640 1 person, 233.9ms\n",
            "Speed: 0.6ms pre-process, 233.9ms inference, 938.6ms NMS per image at shape (1, 3, 640, 640)\n",
            "Results saved to \u001b[1mruns/detect/exp\u001b[0m\n",
            "\u001b[34m\u001b[1mdetect_md: \u001b[0mweights=['/content/drive/MyDrive/yolov9//weights/yolov9-e.pt'], source=/content/drive/MyDrive/yolov9//thumnails/images/image_40.jpg, data=data/coco128.yaml, imgsz=[640, 640], conf_thres=0.1, iou_thres=0.45, max_det=1000, device=0, view_img=False, save_txt=False, save_conf=False, save_crop=False, nosave=False, classes=None, agnostic_nms=False, augment=False, visualize=False, update=False, project=runs/detect, name=exp, exist_ok=False, line_thickness=3, hide_labels=False, hide_conf=False, half=False, dnn=False, vid_stride=1\n",
            "YOLOv5 🚀 1e33dbb Python-3.10.12 torch-2.3.0+cu121 CUDA:0 (Tesla T4, 15102MiB)\n",
            "\n",
            "Fusing layers... \n",
            "Model summary: 1119 layers, 69470144 parameters, 0 gradients\n",
            "image 1/1 /content/drive/MyDrive/yolov9/thumnails/images/image_40.jpg: 416x640 1 person, 1 backpack, 1 suitcase, 1 cup, 3 potted plants, 151.8ms\n",
            "Speed: 0.6ms pre-process, 151.8ms inference, 592.9ms NMS per image at shape (1, 3, 640, 640)\n",
            "Results saved to \u001b[1mruns/detect/exp\u001b[0m\n",
            "\u001b[34m\u001b[1mdetect_md: \u001b[0mweights=['/content/drive/MyDrive/yolov9//weights/yolov9-e.pt'], source=/content/drive/MyDrive/yolov9//thumnails/images/image_44.jpg, data=data/coco128.yaml, imgsz=[640, 640], conf_thres=0.1, iou_thres=0.45, max_det=1000, device=0, view_img=False, save_txt=False, save_conf=False, save_crop=False, nosave=False, classes=None, agnostic_nms=False, augment=False, visualize=False, update=False, project=runs/detect, name=exp, exist_ok=False, line_thickness=3, hide_labels=False, hide_conf=False, half=False, dnn=False, vid_stride=1\n",
            "YOLOv5 🚀 1e33dbb Python-3.10.12 torch-2.3.0+cu121 CUDA:0 (Tesla T4, 15102MiB)\n",
            "\n",
            "Fusing layers... \n",
            "Model summary: 1119 layers, 69470144 parameters, 0 gradients\n",
            "image 1/1 /content/drive/MyDrive/yolov9/thumnails/images/image_44.jpg: 416x640 1 person, 158.4ms\n",
            "Speed: 0.6ms pre-process, 158.4ms inference, 690.6ms NMS per image at shape (1, 3, 640, 640)\n",
            "Results saved to \u001b[1mruns/detect/exp\u001b[0m\n",
            "\u001b[34m\u001b[1mdetect_md: \u001b[0mweights=['/content/drive/MyDrive/yolov9//weights/yolov9-e.pt'], source=/content/drive/MyDrive/yolov9//thumnails/images/image_32.jpg, data=data/coco128.yaml, imgsz=[640, 640], conf_thres=0.1, iou_thres=0.45, max_det=1000, device=0, view_img=False, save_txt=False, save_conf=False, save_crop=False, nosave=False, classes=None, agnostic_nms=False, augment=False, visualize=False, update=False, project=runs/detect, name=exp, exist_ok=False, line_thickness=3, hide_labels=False, hide_conf=False, half=False, dnn=False, vid_stride=1\n",
            "YOLOv5 🚀 1e33dbb Python-3.10.12 torch-2.3.0+cu121 CUDA:0 (Tesla T4, 15102MiB)\n",
            "\n",
            "Fusing layers... \n",
            "Model summary: 1119 layers, 69470144 parameters, 0 gradients\n",
            "image 1/1 /content/drive/MyDrive/yolov9/thumnails/images/image_32.jpg: 416x640 2 persons, 2 benchs, 1 handbag, 1 tie, 151.8ms\n",
            "Speed: 0.6ms pre-process, 151.8ms inference, 686.9ms NMS per image at shape (1, 3, 640, 640)\n",
            "Results saved to \u001b[1mruns/detect/exp\u001b[0m\n",
            "\u001b[34m\u001b[1mdetect_md: \u001b[0mweights=['/content/drive/MyDrive/yolov9//weights/yolov9-e.pt'], source=/content/drive/MyDrive/yolov9//thumnails/images/image_19.jpg, data=data/coco128.yaml, imgsz=[640, 640], conf_thres=0.1, iou_thres=0.45, max_det=1000, device=0, view_img=False, save_txt=False, save_conf=False, save_crop=False, nosave=False, classes=None, agnostic_nms=False, augment=False, visualize=False, update=False, project=runs/detect, name=exp, exist_ok=False, line_thickness=3, hide_labels=False, hide_conf=False, half=False, dnn=False, vid_stride=1\n",
            "YOLOv5 🚀 1e33dbb Python-3.10.12 torch-2.3.0+cu121 CUDA:0 (Tesla T4, 15102MiB)\n",
            "\n",
            "Fusing layers... \n",
            "Model summary: 1119 layers, 69470144 parameters, 0 gradients\n",
            "image 1/1 /content/drive/MyDrive/yolov9/thumnails/images/image_19.jpg: 416x640 2 persons, 163.0ms\n",
            "Speed: 0.6ms pre-process, 163.0ms inference, 508.7ms NMS per image at shape (1, 3, 640, 640)\n",
            "Results saved to \u001b[1mruns/detect/exp\u001b[0m\n",
            "\u001b[34m\u001b[1mdetect_md: \u001b[0mweights=['/content/drive/MyDrive/yolov9//weights/yolov9-e.pt'], source=/content/drive/MyDrive/yolov9//thumnails/images/image_10.jpg, data=data/coco128.yaml, imgsz=[640, 640], conf_thres=0.1, iou_thres=0.45, max_det=1000, device=0, view_img=False, save_txt=False, save_conf=False, save_crop=False, nosave=False, classes=None, agnostic_nms=False, augment=False, visualize=False, update=False, project=runs/detect, name=exp, exist_ok=False, line_thickness=3, hide_labels=False, hide_conf=False, half=False, dnn=False, vid_stride=1\n",
            "YOLOv5 🚀 1e33dbb Python-3.10.12 torch-2.3.0+cu121 CUDA:0 (Tesla T4, 15102MiB)\n",
            "\n",
            "Fusing layers... \n",
            "Model summary: 1119 layers, 69470144 parameters, 0 gradients\n",
            "image 1/1 /content/drive/MyDrive/yolov9/thumnails/images/image_10.jpg: 416x640 (no detections), 150.7ms\n",
            "Speed: 0.6ms pre-process, 150.7ms inference, 19.6ms NMS per image at shape (1, 3, 640, 640)\n",
            "Results saved to \u001b[1mruns/detect/exp\u001b[0m\n",
            "\u001b[34m\u001b[1mdetect_md: \u001b[0mweights=['/content/drive/MyDrive/yolov9//weights/yolov9-e.pt'], source=/content/drive/MyDrive/yolov9//thumnails/images/image_39.jpg, data=data/coco128.yaml, imgsz=[640, 640], conf_thres=0.1, iou_thres=0.45, max_det=1000, device=0, view_img=False, save_txt=False, save_conf=False, save_crop=False, nosave=False, classes=None, agnostic_nms=False, augment=False, visualize=False, update=False, project=runs/detect, name=exp, exist_ok=False, line_thickness=3, hide_labels=False, hide_conf=False, half=False, dnn=False, vid_stride=1\n",
            "YOLOv5 🚀 1e33dbb Python-3.10.12 torch-2.3.0+cu121 CUDA:0 (Tesla T4, 15102MiB)\n",
            "\n",
            "Fusing layers... \n",
            "Model summary: 1119 layers, 69470144 parameters, 0 gradients\n",
            "image 1/1 /content/drive/MyDrive/yolov9/thumnails/images/image_39.jpg: 416x640 1 person, 1 dog, 1 suitcase, 1 chair, 1 potted plant, 2 beds, 1 laptop, 2 books, 1 clock, 154.6ms\n",
            "Speed: 0.6ms pre-process, 154.6ms inference, 719.7ms NMS per image at shape (1, 3, 640, 640)\n",
            "Results saved to \u001b[1mruns/detect/exp\u001b[0m\n",
            "\u001b[34m\u001b[1mdetect_md: \u001b[0mweights=['/content/drive/MyDrive/yolov9//weights/yolov9-e.pt'], source=/content/drive/MyDrive/yolov9//thumnails/images/image_9.jpg, data=data/coco128.yaml, imgsz=[640, 640], conf_thres=0.1, iou_thres=0.45, max_det=1000, device=0, view_img=False, save_txt=False, save_conf=False, save_crop=False, nosave=False, classes=None, agnostic_nms=False, augment=False, visualize=False, update=False, project=runs/detect, name=exp, exist_ok=False, line_thickness=3, hide_labels=False, hide_conf=False, half=False, dnn=False, vid_stride=1\n",
            "YOLOv5 🚀 1e33dbb Python-3.10.12 torch-2.3.0+cu121 CUDA:0 (Tesla T4, 15102MiB)\n",
            "\n",
            "Fusing layers... \n",
            "Model summary: 1119 layers, 69470144 parameters, 0 gradients\n",
            "image 1/1 /content/drive/MyDrive/yolov9/thumnails/images/image_9.jpg: 384x640 2 persons, 1 tv, 152.2ms\n",
            "Speed: 0.6ms pre-process, 152.2ms inference, 1115.6ms NMS per image at shape (1, 3, 640, 640)\n",
            "Results saved to \u001b[1mruns/detect/exp\u001b[0m\n",
            "\u001b[34m\u001b[1mdetect_md: \u001b[0mweights=['/content/drive/MyDrive/yolov9//weights/yolov9-e.pt'], source=/content/drive/MyDrive/yolov9//thumnails/images/image_46.jpg, data=data/coco128.yaml, imgsz=[640, 640], conf_thres=0.1, iou_thres=0.45, max_det=1000, device=0, view_img=False, save_txt=False, save_conf=False, save_crop=False, nosave=False, classes=None, agnostic_nms=False, augment=False, visualize=False, update=False, project=runs/detect, name=exp, exist_ok=False, line_thickness=3, hide_labels=False, hide_conf=False, half=False, dnn=False, vid_stride=1\n",
            "YOLOv5 🚀 1e33dbb Python-3.10.12 torch-2.3.0+cu121 CUDA:0 (Tesla T4, 15102MiB)\n",
            "\n",
            "Fusing layers... \n",
            "Model summary: 1119 layers, 69470144 parameters, 0 gradients\n",
            "image 1/1 /content/drive/MyDrive/yolov9/thumnails/images/image_46.jpg: 416x640 1 cup, 1 tv, 1 laptop, 162.9ms\n",
            "Speed: 0.6ms pre-process, 162.9ms inference, 529.5ms NMS per image at shape (1, 3, 640, 640)\n",
            "Results saved to \u001b[1mruns/detect/exp\u001b[0m\n",
            "\u001b[34m\u001b[1mdetect_md: \u001b[0mweights=['/content/drive/MyDrive/yolov9//weights/yolov9-e.pt'], source=/content/drive/MyDrive/yolov9//thumnails/images/image_36.jpg, data=data/coco128.yaml, imgsz=[640, 640], conf_thres=0.1, iou_thres=0.45, max_det=1000, device=0, view_img=False, save_txt=False, save_conf=False, save_crop=False, nosave=False, classes=None, agnostic_nms=False, augment=False, visualize=False, update=False, project=runs/detect, name=exp, exist_ok=False, line_thickness=3, hide_labels=False, hide_conf=False, half=False, dnn=False, vid_stride=1\n",
            "YOLOv5 🚀 1e33dbb Python-3.10.12 torch-2.3.0+cu121 CUDA:0 (Tesla T4, 15102MiB)\n",
            "\n",
            "Fusing layers... \n",
            "Model summary: 1119 layers, 69470144 parameters, 0 gradients\n",
            "image 1/1 /content/drive/MyDrive/yolov9/thumnails/images/image_36.jpg: 416x640 1 person, 1 tie, 1 tv, 158.6ms\n",
            "Speed: 0.6ms pre-process, 158.6ms inference, 566.8ms NMS per image at shape (1, 3, 640, 640)\n",
            "Results saved to \u001b[1mruns/detect/exp\u001b[0m\n",
            "\u001b[34m\u001b[1mdetect_md: \u001b[0mweights=['/content/drive/MyDrive/yolov9//weights/yolov9-e.pt'], source=/content/drive/MyDrive/yolov9//thumnails/images/image_2.jpg, data=data/coco128.yaml, imgsz=[640, 640], conf_thres=0.1, iou_thres=0.45, max_det=1000, device=0, view_img=False, save_txt=False, save_conf=False, save_crop=False, nosave=False, classes=None, agnostic_nms=False, augment=False, visualize=False, update=False, project=runs/detect, name=exp, exist_ok=False, line_thickness=3, hide_labels=False, hide_conf=False, half=False, dnn=False, vid_stride=1\n",
            "YOLOv5 🚀 1e33dbb Python-3.10.12 torch-2.3.0+cu121 CUDA:0 (Tesla T4, 15102MiB)\n",
            "\n",
            "Fusing layers... \n",
            "Model summary: 1119 layers, 69470144 parameters, 0 gradients\n",
            "image 1/1 /content/drive/MyDrive/yolov9/thumnails/images/image_2.jpg: 416x640 1 person, 241.0ms\n",
            "Speed: 0.6ms pre-process, 241.0ms inference, 987.7ms NMS per image at shape (1, 3, 640, 640)\n",
            "Results saved to \u001b[1mruns/detect/exp\u001b[0m\n",
            "\u001b[34m\u001b[1mdetect_md: \u001b[0mweights=['/content/drive/MyDrive/yolov9//weights/yolov9-e.pt'], source=/content/drive/MyDrive/yolov9//thumnails/images/image_28.jpg, data=data/coco128.yaml, imgsz=[640, 640], conf_thres=0.1, iou_thres=0.45, max_det=1000, device=0, view_img=False, save_txt=False, save_conf=False, save_crop=False, nosave=False, classes=None, agnostic_nms=False, augment=False, visualize=False, update=False, project=runs/detect, name=exp, exist_ok=False, line_thickness=3, hide_labels=False, hide_conf=False, half=False, dnn=False, vid_stride=1\n",
            "YOLOv5 🚀 1e33dbb Python-3.10.12 torch-2.3.0+cu121 CUDA:0 (Tesla T4, 15102MiB)\n",
            "\n",
            "Fusing layers... \n",
            "Model summary: 1119 layers, 69470144 parameters, 0 gradients\n",
            "image 1/1 /content/drive/MyDrive/yolov9/thumnails/images/image_28.jpg: 416x640 (no detections), 152.7ms\n",
            "Speed: 0.6ms pre-process, 152.7ms inference, 18.6ms NMS per image at shape (1, 3, 640, 640)\n",
            "Results saved to \u001b[1mruns/detect/exp\u001b[0m\n",
            "\u001b[34m\u001b[1mdetect_md: \u001b[0mweights=['/content/drive/MyDrive/yolov9//weights/yolov9-e.pt'], source=/content/drive/MyDrive/yolov9//thumnails/images/image_29.jpg, data=data/coco128.yaml, imgsz=[640, 640], conf_thres=0.1, iou_thres=0.45, max_det=1000, device=0, view_img=False, save_txt=False, save_conf=False, save_crop=False, nosave=False, classes=None, agnostic_nms=False, augment=False, visualize=False, update=False, project=runs/detect, name=exp, exist_ok=False, line_thickness=3, hide_labels=False, hide_conf=False, half=False, dnn=False, vid_stride=1\n",
            "YOLOv5 🚀 1e33dbb Python-3.10.12 torch-2.3.0+cu121 CUDA:0 (Tesla T4, 15102MiB)\n",
            "\n",
            "Fusing layers... \n",
            "Model summary: 1119 layers, 69470144 parameters, 0 gradients\n",
            "image 1/1 /content/drive/MyDrive/yolov9/thumnails/images/image_29.jpg: 416x640 1 person, 1 backpack, 1 chair, 1 couch, 5 potted plants, 1 tv, 1 laptop, 17 books, 1 vase, 147.9ms\n",
            "Speed: 0.5ms pre-process, 147.9ms inference, 512.1ms NMS per image at shape (1, 3, 640, 640)\n",
            "Results saved to \u001b[1mruns/detect/exp\u001b[0m\n",
            "\u001b[34m\u001b[1mdetect_md: \u001b[0mweights=['/content/drive/MyDrive/yolov9//weights/yolov9-e.pt'], source=/content/drive/MyDrive/yolov9//thumnails/images/image_47.jpg, data=data/coco128.yaml, imgsz=[640, 640], conf_thres=0.1, iou_thres=0.45, max_det=1000, device=0, view_img=False, save_txt=False, save_conf=False, save_crop=False, nosave=False, classes=None, agnostic_nms=False, augment=False, visualize=False, update=False, project=runs/detect, name=exp, exist_ok=False, line_thickness=3, hide_labels=False, hide_conf=False, half=False, dnn=False, vid_stride=1\n",
            "YOLOv5 🚀 1e33dbb Python-3.10.12 torch-2.3.0+cu121 CUDA:0 (Tesla T4, 15102MiB)\n",
            "\n",
            "Fusing layers... \n",
            "Model summary: 1119 layers, 69470144 parameters, 0 gradients\n",
            "image 1/1 /content/drive/MyDrive/yolov9/thumnails/images/image_47.jpg: 480x640 1 chair, 3 potted plants, 7 books, 4 vases, 255.2ms\n",
            "Speed: 0.7ms pre-process, 255.2ms inference, 972.7ms NMS per image at shape (1, 3, 640, 640)\n",
            "Results saved to \u001b[1mruns/detect/exp\u001b[0m\n",
            "\u001b[34m\u001b[1mdetect_md: \u001b[0mweights=['/content/drive/MyDrive/yolov9//weights/yolov9-e.pt'], source=/content/drive/MyDrive/yolov9//thumnails/images/image_18.jpg, data=data/coco128.yaml, imgsz=[640, 640], conf_thres=0.1, iou_thres=0.45, max_det=1000, device=0, view_img=False, save_txt=False, save_conf=False, save_crop=False, nosave=False, classes=None, agnostic_nms=False, augment=False, visualize=False, update=False, project=runs/detect, name=exp, exist_ok=False, line_thickness=3, hide_labels=False, hide_conf=False, half=False, dnn=False, vid_stride=1\n",
            "YOLOv5 🚀 1e33dbb Python-3.10.12 torch-2.3.0+cu121 CUDA:0 (Tesla T4, 15102MiB)\n",
            "\n",
            "Fusing layers... \n",
            "Model summary: 1119 layers, 69470144 parameters, 0 gradients\n",
            "image 1/1 /content/drive/MyDrive/yolov9/thumnails/images/image_18.jpg: 416x640 1 person, 1 bicycle, 1 truck, 163.3ms\n",
            "Speed: 0.6ms pre-process, 163.3ms inference, 524.9ms NMS per image at shape (1, 3, 640, 640)\n",
            "Results saved to \u001b[1mruns/detect/exp\u001b[0m\n",
            "\u001b[34m\u001b[1mdetect_md: \u001b[0mweights=['/content/drive/MyDrive/yolov9//weights/yolov9-e.pt'], source=/content/drive/MyDrive/yolov9//thumnails/images/image_63.jpg, data=data/coco128.yaml, imgsz=[640, 640], conf_thres=0.1, iou_thres=0.45, max_det=1000, device=0, view_img=False, save_txt=False, save_conf=False, save_crop=False, nosave=False, classes=None, agnostic_nms=False, augment=False, visualize=False, update=False, project=runs/detect, name=exp, exist_ok=False, line_thickness=3, hide_labels=False, hide_conf=False, half=False, dnn=False, vid_stride=1\n",
            "YOLOv5 🚀 1e33dbb Python-3.10.12 torch-2.3.0+cu121 CUDA:0 (Tesla T4, 15102MiB)\n",
            "\n",
            "Fusing layers... \n",
            "Model summary: 1119 layers, 69470144 parameters, 0 gradients\n",
            "image 1/1 /content/drive/MyDrive/yolov9/thumnails/images/image_63.jpg: 416x640 2 persons, 159.9ms\n",
            "Speed: 0.6ms pre-process, 159.9ms inference, 689.0ms NMS per image at shape (1, 3, 640, 640)\n",
            "Results saved to \u001b[1mruns/detect/exp\u001b[0m\n",
            "\u001b[34m\u001b[1mdetect_md: \u001b[0mweights=['/content/drive/MyDrive/yolov9//weights/yolov9-e.pt'], source=/content/drive/MyDrive/yolov9//thumnails/images/image_3.jpg, data=data/coco128.yaml, imgsz=[640, 640], conf_thres=0.1, iou_thres=0.45, max_det=1000, device=0, view_img=False, save_txt=False, save_conf=False, save_crop=False, nosave=False, classes=None, agnostic_nms=False, augment=False, visualize=False, update=False, project=runs/detect, name=exp, exist_ok=False, line_thickness=3, hide_labels=False, hide_conf=False, half=False, dnn=False, vid_stride=1\n",
            "YOLOv5 🚀 1e33dbb Python-3.10.12 torch-2.3.0+cu121 CUDA:0 (Tesla T4, 15102MiB)\n",
            "\n",
            "Fusing layers... \n",
            "Model summary: 1119 layers, 69470144 parameters, 0 gradients\n",
            "image 1/1 /content/drive/MyDrive/yolov9/thumnails/images/image_3.jpg: 416x640 1 person, 151.8ms\n",
            "Speed: 0.6ms pre-process, 151.8ms inference, 595.0ms NMS per image at shape (1, 3, 640, 640)\n",
            "Results saved to \u001b[1mruns/detect/exp\u001b[0m\n"
          ]
        }
      ],
      "source": [
        "import os\n",
        "\n",
        "directory = f'{HOME}/thumnails/images'\n",
        "\n",
        "for filename in os.listdir(directory):\n",
        "  if filename.endswith('.jpg'):\n",
        "    filepath = os.path.join(directory, filename)\n",
        "    command = f'python detect_md.py --weights {HOME}/weights/yolov9-e.pt --conf 0.1 --source {filepath} --device 0'\n",
        "    !{command}"
      ]
    },
    {
      "cell_type": "markdown",
      "source": [
        "### 테스트 코드 작성(cpu)"
      ],
      "metadata": {
        "id": "PLQYry2YaEgH"
      }
    },
    {
      "cell_type": "code",
      "execution_count": null,
      "metadata": {
        "id": "emmg7miL02KU",
        "collapsed": true
      },
      "outputs": [],
      "source": [
        "## code test\n",
        "import os\n",
        "\n",
        "directory = '/content/drive/MyDrive/yolov9/thumnails/images'\n",
        "\n",
        "for filename in os.listdir(directory):\n",
        "  if filename.endswith('.jpg'):\n",
        "    filepath = os.path.join(directory, filename)\n",
        "    command = f'python detect_md.py --weights {HOME}/weights/yolov9-e.pt --conf 0.1 --source {filepath} --device cpu'\n",
        "    !{command}"
      ]
    }
  ],
  "metadata": {
    "colab": {
      "provenance": [],
      "gpuType": "T4",
      "mount_file_id": "1b_NDHxtamSx8tfNJCuIzyD1zt5uNfVZl",
      "authorship_tag": "ABX9TyMr/GZ1DGMM/B5lHhmi9KpT",
      "include_colab_link": true
    },
    "kernelspec": {
      "display_name": "Python 3",
      "name": "python3"
    },
    "language_info": {
      "name": "python"
    },
    "accelerator": "GPU"
  },
  "nbformat": 4,
  "nbformat_minor": 0
}